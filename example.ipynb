{
 "cells": [
  {
   "cell_type": "code",
   "execution_count": 3,
   "metadata": {},
   "outputs": [],
   "source": [
    "import numpy as np\n",
    "import matplotlib.pyplot as plt\n",
    "from scipy.optimize import root\n",
    "import pickle\n",
    "\n",
    "from src.network_simulator import PoissonNetwork\n",
    "from src.variational_bayes import VariationalBayes"
   ]
  },
  {
   "cell_type": "markdown",
   "metadata": {},
   "source": [
    "### An example of simulating a network with nodes changing memberships"
   ]
  },
  {
   "cell_type": "markdown",
   "metadata": {},
   "source": [
    "Example of a fully-connected graph"
   ]
  },
  {
   "cell_type": "code",
   "execution_count": 13,
   "metadata": {},
   "outputs": [],
   "source": [
    "num_nodes = 250; num_groups = 2; num_groups_prime = 1; T_max = 5\n",
    "group_sizes = np.array([150, 100])\n",
    "group_sizes_prime = np.array([num_nodes])\n",
    "lam_matrix = np.array([[2.0, 1.0],\n",
    "                       [0.3, 8.0]]) \n",
    "rho_matrix = np.array([[1]]) # Fully-connected graph \n",
    "\n",
    "PN = PoissonNetwork(num_nodes=num_nodes, \n",
    "                    num_groups=num_groups, \n",
    "                    num_groups_prime=num_groups_prime,\n",
    "                    T_max=T_max,\n",
    "                    lam_matrix=lam_matrix,\n",
    "                    rho_matrix=rho_matrix)\n",
    "sampled_network, groups_in_regions = (\n",
    "    PN.sample_network(group_sizes=group_sizes,\n",
    "                      group_sizes_prime=group_sizes_prime,\n",
    "                      mem_change=True,\n",
    "                      mem_change_times=np.tile([3], 50), # Nodes all swap at time t=3\n",
    "                      mem_change_nodes=np.arange(50)) # Nodes 0-49 swap\n",
    ") "
   ]
  },
  {
   "cell_type": "markdown",
   "metadata": {},
   "source": [
    "Example of a graph where the adjacency matrix is formed from an SBM with two groups"
   ]
  },
  {
   "cell_type": "code",
   "execution_count": 5,
   "metadata": {},
   "outputs": [],
   "source": [
    "num_nodes = 250; num_groups = 2; num_groups_prime = 2; T_max = 5\n",
    "group_sizes = np.array([150, 100])\n",
    "group_sizes_prime = np.array([200, 50]) # Sizes of SBM groups\n",
    "lam_matrix = np.array([[2.0, 1.0],\n",
    "                       [0.3, 8.0]])\n",
    "rho_matrix = np.array([[0.9, 0.2],\n",
    "                       [0.1, 0.7]]) # Connected probabilities \n",
    "\n",
    "PN = PoissonNetwork(num_nodes=num_nodes, \n",
    "                    num_groups=num_groups, \n",
    "                    num_groups_prime=num_groups_prime,\n",
    "                    T_max=T_max,\n",
    "                    lam_matrix=lam_matrix,\n",
    "                    rho_matrix=rho_matrix)\n",
    "sampled_network, groups_in_regions = (\n",
    "    PN.sample_network(group_sizes=group_sizes,\n",
    "                      group_sizes_prime=group_sizes_prime,\n",
    "                      mem_change=True,\n",
    "                      mem_change_times=np.tile([2], 50),\n",
    "                      mem_change_nodes=np.arange(50))\n",
    ")"
   ]
  },
  {
   "cell_type": "markdown",
   "metadata": {},
   "source": [
    "### An example of simulating a network with rate changes"
   ]
  },
  {
   "cell_type": "code",
   "execution_count": 6,
   "metadata": {},
   "outputs": [],
   "source": [
    "num_nodes = 250; num_groups = 2; num_groups_prime = 1; T_max = 5\n",
    "group_sizes = np.array([150, 100])\n",
    "group_sizes_prime = np.array([num_nodes])\n",
    "lam_matrix = np.array([[2.0, 1.0],\n",
    "                       [0.3, 8.0]])\n",
    "rho_matrix = np.array([[1]]) # Fully-connected\n",
    "rate_matrices = [\n",
    "    lam_matrix,\n",
    "    np.array([[5.0, 1.0],\n",
    "              [0.3, 8.0]]),\n",
    "    np.array([[3.0, 1.0],\n",
    "              [0.3, 2.0]]),\n",
    "    np.array([[6.0, 1.0],\n",
    "              [0.3, 2.0]])] # Rate matrices that are changed to\n",
    "\n",
    "PN = PoissonNetwork(num_nodes=num_nodes, \n",
    "                    num_groups=num_groups, \n",
    "                    num_groups_prime=num_groups_prime,\n",
    "                    T_max=T_max,\n",
    "                    lam_matrix=lam_matrix,\n",
    "                    rho_matrix=rho_matrix)\n",
    "sampled_network, groups_in_regions = (\n",
    "    PN.sample_network(group_sizes=group_sizes,\n",
    "                      group_sizes_prime=group_sizes_prime,\n",
    "                      rate_change=True,\n",
    "                      rate_matrices=rate_matrices, # List of the rate matrices\n",
    "                      rate_change_times= np.array([3, 4, 4.5])) # Times of the rate changes\n",
    ")"
   ]
  },
  {
   "cell_type": "markdown",
   "metadata": {},
   "source": [
    "### An example of the number of groups changing"
   ]
  },
  {
   "cell_type": "code",
   "execution_count": 7,
   "metadata": {},
   "outputs": [],
   "source": [
    "num_nodes = 250; num_groups = 2; num_groups_prime = 1; T_max = 5\n",
    "group_sizes = [np.array([150, 100]), np.array([250, 0])] # Number of members of each group\n",
    "group_sizes_prime = np.array([num_nodes])\n",
    "lam_matrix = np.array([[2.0, 1.0],\n",
    "                       [0.3, 8.0]])\n",
    "rho_matrix = np.array([[1]])\n",
    "\n",
    "PN = PoissonNetwork(num_nodes=num_nodes, \n",
    "                    num_groups=num_groups, \n",
    "                    num_groups_prime=num_groups_prime,\n",
    "                    T_max=T_max,\n",
    "                    lam_matrix=lam_matrix,\n",
    "                    rho_matrix=rho_matrix)\n",
    "sampled_network, groups_in_regions = (\n",
    "    PN.sample_network(group_sizes=group_sizes,\n",
    "                      group_sizes_prime=group_sizes_prime,\n",
    "                      group_num_change=True,\n",
    "                      group_num_change_times=np.array([3.2]) # Time of the change of groups\n",
    "                      )\n",
    ")"
   ]
  },
  {
   "cell_type": "markdown",
   "metadata": {},
   "source": [
    "### An example of inference on a sampled network"
   ]
  },
  {
   "cell_type": "code",
   "execution_count": 14,
   "metadata": {},
   "outputs": [
    {
     "name": "stdout",
     "output_type": "stream",
     "text": [
      "...Iteration: 50 of 50...\r"
     ]
    }
   ],
   "source": [
    "adj_mat = np.ones((num_nodes, num_nodes)) # Adjust to correct adjacency (if known)\n",
    "int_length = 0.1; \n",
    "delta_pi = 1; delta_rho = 1; delta_lam = 1; delta_u = 1 # BFF values\n",
    "n_cavi = 3; num_fp_its = 3\n",
    "\n",
    "VB = VariationalBayes(sampled_network=sampled_network,\n",
    "                      num_groups=2, num_groups_prime=1,\n",
    "                      T_max=T_max, int_length=int_length,\n",
    "                      adj_mat=adj_mat, \n",
    "                      num_nodes=num_nodes, alpha_0=1., beta_0=1.,\n",
    "                      sigma_0=0.5, eta_0=1., zeta_0=1., nu_0=1.,\n",
    "                      gamma_0=np.array([0.99, 1.01]),\n",
    "                      xi_0=np.array([0.99, 1.01]), # Initial parameter values\n",
    "                      infer_graph_bool=False,\n",
    "                      infer_num_groups_bool=False) \n",
    "VB.run_full_var_bayes(delta_pi=delta_pi,\n",
    "                      delta_rho=delta_rho,\n",
    "                      delta_lam=delta_lam,\n",
    "                      delta_u=delta_u,\n",
    "                      n_cavi=n_cavi,\n",
    "                      num_fp_its=num_fp_its)"
   ]
  },
  {
   "cell_type": "markdown",
   "metadata": {},
   "source": [
    "Examine output"
   ]
  },
  {
   "cell_type": "code",
   "execution_count": 15,
   "metadata": {},
   "outputs": [],
   "source": [
    "from matplotlib import rc\n",
    "rc('font',**{'family':'serif','serif':['Times']})\n",
    "rc('text', usetex=True)\n",
    "\n",
    "colours = [(208/255, 28/255, 139/255),\n",
    "           (241/255, 182/255, 218/255),\n",
    "           (184/255, 225/255, 134/255),\n",
    "           (77/255, 172/255, 38/255)]"
   ]
  },
  {
   "cell_type": "code",
   "execution_count": 18,
   "metadata": {},
   "outputs": [
    {
     "data": {
      "image/png": "[encoded data removed]",
      "text/plain": [
       "<Figure size 640x480 with 1 Axes>"
      ]
     },
     "metadata": {},
     "output_type": "display_data"
    }
   ],
   "source": [
    "for k in range(num_groups):\n",
    "    for m in range(num_groups):\n",
    "        plt.plot(np.arange(T_max / int_length + 1), VB.alpha_store[:,k,m] / VB.beta_store[:,k,m]);\n",
    "\n",
    "plt.xlabel('Update step');\n",
    "plt.ylabel(r'Posterior $\\lambda$ mean');"
   ]
  }
 ],
 "metadata": {
  "kernelspec": {
   "display_name": "online_networks_venv",
   "language": "python",
   "name": "python3"
  },
  "language_info": {
   "codemirror_mode": {
    "name": "ipython",
    "version": 3
   },
   "file_extension": ".py",
   "mimetype": "text/x-python",
   "name": "python",
   "nbconvert_exporter": "python",
   "pygments_lexer": "ipython3",
   "version": "3.10.12"
  }
 },
 "nbformat": 4,
 "nbformat_minor": 2
}
