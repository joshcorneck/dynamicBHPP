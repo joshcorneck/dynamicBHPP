{
 "cells": [
  {
   "cell_type": "code",
   "execution_count": 1,
   "metadata": {},
   "outputs": [],
   "source": [
    "import numpy as np\n",
    "import matplotlib.pyplot as plt\n",
    "from scipy.optimize import root\n",
    "\n",
    "from fully_connected_poisson import CompleteHomogeneousPoissonNetwork\n",
    "from variational_bayes import VariationalBayes\n",
    "from vem import ExponentialRW"
   ]
  },
  {
   "cell_type": "code",
   "execution_count": 2,
   "metadata": {},
   "outputs": [],
   "source": [
    "num_nodes = 100; num_groups = 2; T_max = 10\n",
    "lam_matrix = np.array([[2.0, 0.5],\n",
    "                       [1.0, 5.0]])\n",
    "# lam_matrix = np.array([[0.05, 2, 12],\n",
    "#                        [0.01, 5, 10],\n",
    "#                        [0.02, 3, 15]])"
   ]
  },
  {
   "cell_type": "code",
   "execution_count": 3,
   "metadata": {},
   "outputs": [],
   "source": [
    "FCP = CompleteHomogeneousPoissonNetwork(num_nodes, num_groups, T_max,\n",
    "                                        lam_matrix)\n",
    "sampled_network, groups_in_regions = (\n",
    "    FCP.sample_network(random_groups=False, change_point=True, num_cps=1,\n",
    "                       group_assignment_type='alternate',\n",
    "                       group_sizes=np.array([50,50]),\n",
    "                       changing_nodes=np.array([5]))\n",
    ")\n",
    "\n",
    "change_node = FCP.changing_node; change_time = FCP.change_point_time"
   ]
  },
  {
   "cell_type": "code",
   "execution_count": 76,
   "metadata": {},
   "outputs": [],
   "source": [
    "import pickle\n",
    "with open('sampled_network.pkl', 'wb') as f:\n",
    "    pickle.dump(sampled_network, f)\n",
    "f.close()"
   ]
  },
  {
   "cell_type": "code",
   "execution_count": 33,
   "metadata": {},
   "outputs": [],
   "source": [
    "result = {}\n",
    "\n",
    "# Iterate over the first 50 keys\n",
    "for key in list(sampled_network.keys())[:50]:\n",
    "    # Extract the nested dictionary\n",
    "    inner_dict = sampled_network[key]\n",
    "\n",
    "    # Take only the first 50 items from the nested dictionary\n",
    "    inner_dict_subset = {k: inner_dict[k] for k in list(inner_dict.keys())[:50]}\n",
    "\n",
    "    # Store the result in the new dictionary\n",
    "    result[key] = inner_dict_subset\n"
   ]
  },
  {
   "cell_type": "code",
   "execution_count": 18,
   "metadata": {},
   "outputs": [
    {
     "name": "stdout",
     "output_type": "stream",
     "text": [
      "...Iteration: 1 of 99...\n",
      "...Iteration: 2 of 99...\n"
     ]
    },
    {
     "ename": "KeyboardInterrupt",
     "evalue": "",
     "output_type": "error",
     "traceback": [
      "\u001b[0;31m---------------------------------------------------------------------------\u001b[0m",
      "\u001b[0;31mKeyboardInterrupt\u001b[0m                         Traceback (most recent call last)",
      "\u001b[1;32m/home/jc820/Documents/PhD/online_networks/code/online-networks-change-points/src/testing.ipynb Cell 5\u001b[0m line \u001b[0;36m8\n\u001b[1;32m      <a href='vscode-notebook-cell:/home/jc820/Documents/PhD/online_networks/code/online-networks-change-points/src/testing.ipynb#W3sZmlsZQ%3D%3D?line=0'>1</a>\u001b[0m int_length \u001b[39m=\u001b[39m \u001b[39m0.1\u001b[39m\n\u001b[1;32m      <a href='vscode-notebook-cell:/home/jc820/Documents/PhD/online_networks/code/online-networks-change-points/src/testing.ipynb#W3sZmlsZQ%3D%3D?line=1'>2</a>\u001b[0m VB \u001b[39m=\u001b[39m VariationalBayes(sampled_network, num_nodes, num_groups, T_max, \n\u001b[1;32m      <a href='vscode-notebook-cell:/home/jc820/Documents/PhD/online_networks/code/online-networks-change-points/src/testing.ipynb#W3sZmlsZQ%3D%3D?line=2'>3</a>\u001b[0m                       int_length, \n\u001b[1;32m      <a href='vscode-notebook-cell:/home/jc820/Documents/PhD/online_networks/code/online-networks-change-points/src/testing.ipynb#W3sZmlsZQ%3D%3D?line=3'>4</a>\u001b[0m                       np\u001b[39m.\u001b[39marray([\u001b[39m0.01\u001b[39m] \u001b[39m*\u001b[39m num_groups \u001b[39m*\u001b[39m\u001b[39m*\u001b[39m \u001b[39m2\u001b[39m)\u001b[39m.\u001b[39mreshape((num_groups, num_groups)), \n\u001b[1;32m      <a href='vscode-notebook-cell:/home/jc820/Documents/PhD/online_networks/code/online-networks-change-points/src/testing.ipynb#W3sZmlsZQ%3D%3D?line=4'>5</a>\u001b[0m                       np\u001b[39m.\u001b[39marray([\u001b[39m0.01\u001b[39m] \u001b[39m*\u001b[39m num_groups \u001b[39m*\u001b[39m\u001b[39m*\u001b[39m \u001b[39m2\u001b[39m)\u001b[39m.\u001b[39mreshape((num_groups,num_groups)),\n\u001b[1;32m      <a href='vscode-notebook-cell:/home/jc820/Documents/PhD/online_networks/code/online-networks-change-points/src/testing.ipynb#W3sZmlsZQ%3D%3D?line=5'>6</a>\u001b[0m                       np\u001b[39m.\u001b[39marray([\u001b[39m1\u001b[39m\u001b[39m/\u001b[39m\u001b[39m2\u001b[39m, \u001b[39m1\u001b[39m\u001b[39m/\u001b[39m\u001b[39m2\u001b[39m \u001b[39m+\u001b[39m \u001b[39m0.01\u001b[39m] \u001b[39m*\u001b[39m \u001b[39mint\u001b[39m(num_groups \u001b[39m/\u001b[39m \u001b[39m2\u001b[39m)),\n\u001b[1;32m      <a href='vscode-notebook-cell:/home/jc820/Documents/PhD/online_networks/code/online-networks-change-points/src/testing.ipynb#W3sZmlsZQ%3D%3D?line=6'>7</a>\u001b[0m                       simple\u001b[39m=\u001b[39m\u001b[39mFalse\u001b[39;00m)\n\u001b[0;32m----> <a href='vscode-notebook-cell:/home/jc820/Documents/PhD/online_networks/code/online-networks-change-points/src/testing.ipynb#W3sZmlsZQ%3D%3D?line=7'>8</a>\u001b[0m VB\u001b[39m.\u001b[39;49mrun_full_var_bayes(delta_z\u001b[39m=\u001b[39;49m\u001b[39m1\u001b[39;49m)\n\u001b[1;32m     <a href='vscode-notebook-cell:/home/jc820/Documents/PhD/online_networks/code/online-networks-change-points/src/testing.ipynb#W3sZmlsZQ%3D%3D?line=9'>10</a>\u001b[0m VB\u001b[39m.\u001b[39mtau_store[\u001b[39m-\u001b[39m\u001b[39m1\u001b[39m,:,:]\u001b[39m.\u001b[39mmean(axis\u001b[39m=\u001b[39m\u001b[39m0\u001b[39m)\n",
      "File \u001b[0;32m~/Documents/PhD/online_networks/code/online-networks-change-points/src/variational_bayes.py:166\u001b[0m, in \u001b[0;36mVariationalBayes.run_full_var_bayes\u001b[0;34m(self, delta_z, n_cavi)\u001b[0m\n\u001b[1;32m    164\u001b[0m cavi_count \u001b[39m=\u001b[39m \u001b[39m0\u001b[39m\n\u001b[1;32m    165\u001b[0m \u001b[39mwhile\u001b[39;00m cavi_count \u001b[39m<\u001b[39m n_cavi:\n\u001b[0;32m--> 166\u001b[0m     \u001b[39mself\u001b[39;49m\u001b[39m.\u001b[39;49m_update_q_z()\n\u001b[1;32m    167\u001b[0m     \u001b[39mself\u001b[39m\u001b[39m.\u001b[39m_update_q_pi()\n\u001b[1;32m    168\u001b[0m     \u001b[39mself\u001b[39m\u001b[39m.\u001b[39m_update_q_lam()\n",
      "File \u001b[0;32m~/Documents/PhD/online_networks/code/online-networks-change-points/src/variational_bayes.py:108\u001b[0m, in \u001b[0;36mVariationalBayes._update_q_z\u001b[0;34m(self)\u001b[0m\n\u001b[1;32m    106\u001b[0m         \u001b[39mfor\u001b[39;00m j \u001b[39min\u001b[39;00m \u001b[39mrange\u001b[39m(\u001b[39mself\u001b[39m\u001b[39m.\u001b[39mN):\n\u001b[1;32m    107\u001b[0m             \u001b[39mif\u001b[39;00m j \u001b[39m!=\u001b[39m i_prime:\n\u001b[0;32m--> 108\u001b[0m                 temp_sum \u001b[39m+\u001b[39m\u001b[39m=\u001b[39m sum_term(i_prime, j, k_prime)\n\u001b[1;32m    109\u001b[0m         tau_temp[i_prime,k_prime] \u001b[39m=\u001b[39m temp_sum\n\u001b[1;32m    111\u001b[0m \u001b[39mself\u001b[39m\u001b[39m.\u001b[39mtau_temp \u001b[39m=\u001b[39m tau_temp\n",
      "File \u001b[0;32m~/Documents/PhD/online_networks/code/online-networks-change-points/src/variational_bayes.py:99\u001b[0m, in \u001b[0;36mVariationalBayes._update_q_z.<locals>.sum_term\u001b[0;34m(i_prime, j, k_prime)\u001b[0m\n\u001b[1;32m     87\u001b[0m \u001b[39mdef\u001b[39;00m \u001b[39msum_term\u001b[39m(i_prime, j, k_prime):\n\u001b[1;32m     88\u001b[0m     term \u001b[39m=\u001b[39m \u001b[39mself\u001b[39m\u001b[39m.\u001b[39mtau_prior[j,:] \u001b[39m*\u001b[39m (\n\u001b[1;32m     89\u001b[0m         \u001b[39mself\u001b[39m\u001b[39m.\u001b[39meff_count[i_prime,j] \u001b[39m*\u001b[39m (\n\u001b[1;32m     90\u001b[0m             digamma(\u001b[39mself\u001b[39m\u001b[39m.\u001b[39malpha[k_prime,:]) \u001b[39m-\u001b[39m np\u001b[39m.\u001b[39mlog(\u001b[39mself\u001b[39m\u001b[39m.\u001b[39mbeta[k_prime,:])\n\u001b[0;32m   (...)\u001b[0m\n\u001b[1;32m     96\u001b[0m         \u001b[39mself\u001b[39m\u001b[39m.\u001b[39meff_obs_time[j,i_prime] \u001b[39m*\u001b[39m \u001b[39mself\u001b[39m\u001b[39m.\u001b[39malpha[:,k_prime] \u001b[39m/\u001b[39m \u001b[39mself\u001b[39m\u001b[39m.\u001b[39mbeta[:,k_prime]\n\u001b[1;32m     97\u001b[0m     )\n\u001b[0;32m---> 99\u001b[0m     \u001b[39mreturn\u001b[39;00m term\u001b[39m.\u001b[39;49msum()\n",
      "File \u001b[0;32m~/Documents/PhD/online_networks/code/online_networks_venv/lib/python3.10/site-packages/numpy/core/_methods.py:47\u001b[0m, in \u001b[0;36m_sum\u001b[0;34m(a, axis, dtype, out, keepdims, initial, where)\u001b[0m\n\u001b[1;32m     43\u001b[0m \u001b[39mdef\u001b[39;00m \u001b[39m_amin\u001b[39m(a, axis\u001b[39m=\u001b[39m\u001b[39mNone\u001b[39;00m, out\u001b[39m=\u001b[39m\u001b[39mNone\u001b[39;00m, keepdims\u001b[39m=\u001b[39m\u001b[39mFalse\u001b[39;00m,\n\u001b[1;32m     44\u001b[0m           initial\u001b[39m=\u001b[39m_NoValue, where\u001b[39m=\u001b[39m\u001b[39mTrue\u001b[39;00m):\n\u001b[1;32m     45\u001b[0m     \u001b[39mreturn\u001b[39;00m umr_minimum(a, axis, \u001b[39mNone\u001b[39;00m, out, keepdims, initial, where)\n\u001b[0;32m---> 47\u001b[0m \u001b[39mdef\u001b[39;00m \u001b[39m_sum\u001b[39m(a, axis\u001b[39m=\u001b[39m\u001b[39mNone\u001b[39;00m, dtype\u001b[39m=\u001b[39m\u001b[39mNone\u001b[39;00m, out\u001b[39m=\u001b[39m\u001b[39mNone\u001b[39;00m, keepdims\u001b[39m=\u001b[39m\u001b[39mFalse\u001b[39;00m,\n\u001b[1;32m     48\u001b[0m          initial\u001b[39m=\u001b[39m_NoValue, where\u001b[39m=\u001b[39m\u001b[39mTrue\u001b[39;00m):\n\u001b[1;32m     49\u001b[0m     \u001b[39mreturn\u001b[39;00m umr_sum(a, axis, dtype, out, keepdims, initial, where)\n\u001b[1;32m     51\u001b[0m \u001b[39mdef\u001b[39;00m \u001b[39m_prod\u001b[39m(a, axis\u001b[39m=\u001b[39m\u001b[39mNone\u001b[39;00m, dtype\u001b[39m=\u001b[39m\u001b[39mNone\u001b[39;00m, out\u001b[39m=\u001b[39m\u001b[39mNone\u001b[39;00m, keepdims\u001b[39m=\u001b[39m\u001b[39mFalse\u001b[39;00m,\n\u001b[1;32m     52\u001b[0m           initial\u001b[39m=\u001b[39m_NoValue, where\u001b[39m=\u001b[39m\u001b[39mTrue\u001b[39;00m):\n",
      "\u001b[0;31mKeyboardInterrupt\u001b[0m: "
     ]
    }
   ],
   "source": [
    "int_length = 0.1\n",
    "VB = VariationalBayes(sampled_network, num_nodes, num_groups, T_max, \n",
    "                      int_length, \n",
    "                      np.array([0.01] * num_groups ** 2).reshape((num_groups, num_groups)), \n",
    "                      np.array([0.01] * num_groups ** 2).reshape((num_groups,num_groups)),\n",
    "                      np.array([1/2, 1/2 + 0.01] * int(num_groups / 2)),\n",
    "                      simple=False)\n",
    "VB.run_full_var_bayes(delta_z=1)\n",
    "\n",
    "VB.tau_store[-1,:,:].mean(axis=0)"
   ]
  },
  {
   "cell_type": "code",
   "execution_count": null,
   "metadata": {},
   "outputs": [],
   "source": [
    "a = "
   ]
  },
  {
   "cell_type": "code",
   "execution_count": 5,
   "metadata": {},
   "outputs": [
    {
     "data": {
      "text/plain": [
       "[<matplotlib.lines.Line2D at 0x7fb047d34e80>]"
      ]
     },
     "execution_count": 5,
     "metadata": {},
     "output_type": "execute_result"
    },
    {
     "data": {
      "image/png": "[encoded data removed]",
      "text/plain": [
       "<Figure size 640x480 with 1 Axes>"
      ]
     },
     "metadata": {},
     "output_type": "display_data"
    }
   ],
   "source": [
    "# print(change_time)\n",
    "plt.plot(np.arange(0, T_max, int_length), np.mean(VB.tau_store[:,:,1], axis=1))\n",
    "# plt.axvline(x=change_time, color='r', linestyle='--')"
   ]
  },
  {
   "cell_type": "code",
   "execution_count": 84,
   "metadata": {},
   "outputs": [
    {
     "name": "stdout",
     "output_type": "stream",
     "text": [
      "[85.05181333]\n"
     ]
    },
    {
     "data": {
      "text/plain": [
       "<matplotlib.lines.Line2D at 0x7f28c88d1bd0>"
      ]
     },
     "execution_count": 84,
     "metadata": {},
     "output_type": "execute_result"
    },
    {
     "data": {
      "image/png": "[encoded data removed]",
      "text/plain": [
       "<Figure size 640x480 with 1 Axes>"
      ]
     },
     "metadata": {},
     "output_type": "display_data"
    }
   ],
   "source": [
    "print(change_time)\n",
    "plt.plot(np.arange(0, T_max, int_length), np.mean(VB.tau_store[:,change_node,1], axis=1))\n",
    "plt.axvline(x=change_time, color='r', linestyle='--')"
   ]
  },
  {
   "cell_type": "code",
   "execution_count": 93,
   "metadata": {},
   "outputs": [
    {
     "name": "stdout",
     "output_type": "stream",
     "text": [
      "[[0. 0. 1.]\n",
      " [0. 0. 1.]\n",
      " [0. 0. 1.]\n",
      " [0. 0. 1.]\n",
      " [0. 0. 1.]\n",
      " [0. 0. 1.]\n",
      " [0. 0. 1.]\n",
      " [0. 0. 1.]\n",
      " [0. 0. 1.]\n",
      " [0. 0. 1.]\n",
      " [0. 0. 1.]\n",
      " [0. 0. 1.]\n",
      " [0. 0. 1.]\n",
      " [0. 0. 1.]\n",
      " [0. 0. 1.]\n",
      " [0. 0. 1.]\n",
      " [0. 0. 1.]\n",
      " [0. 0. 1.]\n",
      " [0. 0. 1.]\n",
      " [0. 0. 1.]\n",
      " [0. 0. 1.]\n",
      " [0. 0. 1.]\n",
      " [0. 0. 1.]\n",
      " [0. 0. 1.]\n",
      " [0. 0. 1.]\n",
      " [0. 0. 1.]\n",
      " [0. 0. 1.]\n",
      " [0. 0. 1.]\n",
      " [0. 0. 1.]\n",
      " [0. 0. 1.]\n",
      " [1. 0. 0.]\n",
      " [1. 0. 0.]\n",
      " [1. 0. 0.]\n",
      " [1. 0. 0.]\n",
      " [1. 0. 0.]\n",
      " [1. 0. 0.]\n",
      " [1. 0. 0.]\n",
      " [1. 0. 0.]\n",
      " [1. 0. 0.]\n",
      " [1. 0. 0.]\n",
      " [1. 0. 0.]\n",
      " [1. 0. 0.]\n",
      " [1. 0. 0.]\n",
      " [1. 0. 0.]\n",
      " [1. 0. 0.]\n",
      " [1. 0. 0.]\n",
      " [1. 0. 0.]\n",
      " [1. 0. 0.]\n",
      " [1. 0. 0.]\n",
      " [1. 0. 0.]\n",
      " [1. 0. 0.]\n",
      " [1. 0. 0.]\n",
      " [1. 0. 0.]\n",
      " [1. 0. 0.]\n",
      " [1. 0. 0.]\n",
      " [1. 0. 0.]\n",
      " [1. 0. 0.]\n",
      " [1. 0. 0.]\n",
      " [1. 0. 0.]\n",
      " [1. 0. 0.]\n",
      " [0. 1. 0.]\n",
      " [0. 1. 0.]\n",
      " [0. 1. 0.]\n",
      " [0. 1. 0.]\n",
      " [0. 1. 0.]\n",
      " [0. 1. 0.]\n",
      " [0. 1. 0.]\n",
      " [0. 1. 0.]\n",
      " [0. 1. 0.]\n",
      " [0. 1. 0.]\n",
      " [0. 1. 0.]\n",
      " [0. 1. 0.]\n",
      " [0. 1. 0.]\n",
      " [0. 1. 0.]\n",
      " [0. 1. 0.]\n",
      " [0. 1. 0.]\n",
      " [0. 1. 0.]\n",
      " [0. 1. 0.]\n",
      " [0. 1. 0.]\n",
      " [0. 1. 0.]\n",
      " [0. 0. 1.]\n",
      " [0. 1. 0.]\n",
      " [0. 1. 0.]\n",
      " [0. 1. 0.]\n",
      " [0. 1. 0.]\n",
      " [0. 1. 0.]\n",
      " [0. 1. 0.]\n",
      " [0. 1. 0.]\n",
      " [0. 1. 0.]\n",
      " [0. 1. 0.]]\n"
     ]
    }
   ],
   "source": [
    "with np.printoptions(threshold=np.inf):\n",
    "    print(VB.tau_store[-10,:,:].round(1))"
   ]
  },
  {
   "cell_type": "code",
   "execution_count": 9,
   "metadata": {},
   "outputs": [
    {
     "data": {
      "image/png": "[encoded data removed]",
      "text/plain": [
       "<Figure size 640x480 with 1 Axes>"
      ]
     },
     "metadata": {},
     "output_type": "display_data"
    }
   ],
   "source": [
    "for j in range(2):\n",
    "        plt.plot(np.arange(int(T_max/int_length) - 1),\n",
    "                [VB.alpha_store[i,j,:] / VB.beta_store[i,j,:] for i in np.arange(int(T_max/int_length) - 1)])"
   ]
  },
  {
   "cell_type": "code",
   "execution_count": 105,
   "metadata": {},
   "outputs": [
    {
     "data": {
      "text/plain": [
       "array([[4.90213320e+00, 1.00615478e+01, 8.22164472e-03],\n",
       "       [3.00001262e+00, 1.43869812e+01, 1.87601895e-02],\n",
       "       [1.96874875e+00, 1.20486037e+01, 4.53212078e-02]])"
      ]
     },
     "execution_count": 105,
     "metadata": {},
     "output_type": "execute_result"
    }
   ],
   "source": [
    "VB.alpha / VB.beta"
   ]
  },
  {
   "cell_type": "code",
   "execution_count": 56,
   "metadata": {},
   "outputs": [],
   "source": [
    "with open('test_read.txt', 'r') as file:\n",
    "\n",
    "    lines = file.readlines()\n",
    "\n",
    "    data = lines[1].split()"
   ]
  },
  {
   "cell_type": "code",
   "execution_count": 71,
   "metadata": {},
   "outputs": [],
   "source": []
  }
 ],
 "metadata": {
  "kernelspec": {
   "display_name": "online_networks_venv",
   "language": "python",
   "name": "python3"
  },
  "language_info": {
   "codemirror_mode": {
    "name": "ipython",
    "version": 3
   },
   "file_extension": ".py",
   "mimetype": "text/x-python",
   "name": "python",
   "nbconvert_exporter": "python",
   "pygments_lexer": "ipython3",
   "version": "3.10.12"
  }
 },
 "nbformat": 4,
 "nbformat_minor": 2
}
