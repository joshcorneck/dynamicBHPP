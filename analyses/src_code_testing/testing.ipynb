{
 "cells": [
  {
   "cell_type": "code",
   "execution_count": 1,
   "metadata": {},
   "outputs": [],
   "source": [
    "import numpy as np\n",
    "import matplotlib.pyplot as plt\n",
    "from scipy.optimize import root\n",
    "import pickle\n",
    "\n",
    "from src.network_simulator import PoissonNetwork\n",
    "from src.variational_bayes import VariationalBayes"
   ]
  },
  {
   "cell_type": "code",
   "execution_count": 44,
   "metadata": {},
   "outputs": [],
   "source": [
    "num_nodes = 500; num_groups = 2; T_max = 10\n",
    "group_sizes = np.array([200, 300])\n",
    "group_sizes_prime = group_sizes\n",
    "# lam_matrix = np.array([[2, 0.2, 3.0],\n",
    "#                        [0.3, 8.0, 6.0],\n",
    "#                        [2.0, 7.0, 25.0]])\n",
    "# num_nodes = 1000; num_groups = 4; T_max = 10\n",
    "# group_sizes = np.array([200, 300, 300, 200])\n",
    "# lam_matrix = np.array([[2, 0.2, 3.0, 15],\n",
    "#                        [0.3, 8.0, 6.0, 12],\n",
    "#                        [2.0, 7.0, 25.0, 14],\n",
    "#                        [13, 11, 12, 100]])\n",
    "\n",
    "# group_sizes = [np.array([300, 200]),\n",
    "#                np.array([500, 0]),\n",
    "#                np.array([200, 300])]\n",
    "\n",
    "lam_matrix = np.array([[2, 1.0],\n",
    "                       [0.3, 8.0]])\n",
    "rho_matrix = np.array([[0.01, 0.01],\n",
    "                       [0.01, 0.01]])\n",
    "rate_matrices = [\n",
    "    lam_matrix,\n",
    "    np.array([[5, 1.0],\n",
    "              [0.3, 8.0]])]\n",
    "\n",
    "PN = PoissonNetwork(num_nodes, num_groups, T_max,\n",
    "                    lam_matrix=lam_matrix,\n",
    "                    rho_matrix=rho_matrix)\n",
    "sampled_network, groups_in_regions = (\n",
    "    PN.sample_network(group_sizes=group_sizes,\n",
    "                      group_num_change=False,\n",
    "                      mem_change=True,\n",
    "                      mem_change_times=np.tile([2], 50),\n",
    "                      mem_change_nodes=np.arange(50))\n",
    ")\n",
    "adj_mat = PN.adjacency_matrix"
   ]
  },
  {
   "cell_type": "code",
   "execution_count": 56,
   "metadata": {},
   "outputs": [
    {
     "name": "stdout",
     "output_type": "stream",
     "text": [
      "...Iteration: 1 of 100...\n",
      "...Iteration: 2 of 100...\n",
      "...Iteration: 3 of 100...\n",
      "...Iteration: 4 of 100...\n",
      "...Iteration: 5 of 100...\n",
      "...Iteration: 6 of 100...\n",
      "...Iteration: 7 of 100...\n",
      "...Iteration: 8 of 100...\n",
      "...Iteration: 9 of 100...\n",
      "...Iteration: 10 of 100...\n",
      "...Iteration: 11 of 100...\n",
      "...Iteration: 12 of 100...\n",
      "...Iteration: 13 of 100...\n",
      "...Iteration: 14 of 100...\n",
      "...Iteration: 15 of 100...\n",
      "...Iteration: 16 of 100...\n",
      "...Iteration: 17 of 100...\n",
      "...Iteration: 18 of 100...\n",
      "...Iteration: 19 of 100...\n",
      "...Iteration: 20 of 100...\n",
      "...Iteration: 21 of 100...\n",
      "...Iteration: 22 of 100...\n",
      "...Iteration: 23 of 100...\n",
      "...Iteration: 24 of 100...\n",
      "...Iteration: 25 of 100...\n",
      "...Iteration: 26 of 100...\n",
      "...Iteration: 27 of 100...\n",
      "...Iteration: 28 of 100...\n",
      "...Iteration: 29 of 100...\n",
      "...Iteration: 30 of 100...\n",
      "...Iteration: 31 of 100...\n",
      "...Iteration: 32 of 100...\n",
      "...Iteration: 33 of 100...\n",
      "...Iteration: 34 of 100...\n",
      "...Iteration: 35 of 100...\n",
      "...Iteration: 36 of 100...\n",
      "...Iteration: 37 of 100...\n",
      "...Iteration: 38 of 100...\n",
      "...Iteration: 39 of 100...\n",
      "...Iteration: 40 of 100...\n",
      "...Iteration: 41 of 100...\n",
      "...Iteration: 42 of 100...\n",
      "...Iteration: 43 of 100...\n",
      "...Iteration: 44 of 100...\n",
      "...Iteration: 45 of 100...\n",
      "...Iteration: 46 of 100...\n",
      "...Iteration: 47 of 100...\n",
      "...Iteration: 48 of 100...\n",
      "...Iteration: 49 of 100...\n",
      "...Iteration: 50 of 100...\n",
      "...Iteration: 51 of 100...\n",
      "...Iteration: 52 of 100...\n",
      "...Iteration: 53 of 100...\n",
      "...Iteration: 54 of 100...\n",
      "...Iteration: 55 of 100...\n",
      "...Iteration: 56 of 100...\n",
      "...Iteration: 57 of 100...\n",
      "...Iteration: 58 of 100...\n",
      "...Iteration: 59 of 100...\n",
      "...Iteration: 60 of 100...\n",
      "...Iteration: 61 of 100...\n",
      "...Iteration: 62 of 100...\n",
      "...Iteration: 63 of 100...\n",
      "...Iteration: 64 of 100...\n",
      "...Iteration: 65 of 100...\n",
      "...Iteration: 66 of 100...\n",
      "...Iteration: 67 of 100...\n",
      "...Iteration: 68 of 100...\n",
      "...Iteration: 69 of 100...\n",
      "...Iteration: 70 of 100...\n",
      "...Iteration: 71 of 100...\n",
      "...Iteration: 72 of 100...\n",
      "...Iteration: 73 of 100...\n",
      "...Iteration: 74 of 100...\n",
      "...Iteration: 75 of 100...\n",
      "...Iteration: 76 of 100...\n",
      "...Iteration: 77 of 100...\n",
      "...Iteration: 78 of 100...\n",
      "...Iteration: 79 of 100...\n",
      "...Iteration: 80 of 100...\n",
      "...Iteration: 81 of 100...\n",
      "...Iteration: 82 of 100...\n",
      "...Iteration: 83 of 100...\n",
      "...Iteration: 84 of 100...\n",
      "...Iteration: 85 of 100...\n",
      "...Iteration: 86 of 100...\n",
      "...Iteration: 87 of 100...\n",
      "...Iteration: 88 of 100...\n",
      "...Iteration: 89 of 100...\n",
      "...Iteration: 90 of 100...\n",
      "...Iteration: 91 of 100...\n",
      "...Iteration: 92 of 100...\n",
      "...Iteration: 93 of 100...\n",
      "...Iteration: 94 of 100...\n",
      "...Iteration: 95 of 100...\n",
      "...Iteration: 96 of 100...\n",
      "...Iteration: 97 of 100...\n",
      "...Iteration: 98 of 100...\n",
      "...Iteration: 99 of 100...\n",
      "...Iteration: 100 of 100...\n"
     ]
    },
    {
     "data": {
      "text/plain": [
       "array([0.67027025, 0.32972975])"
      ]
     },
     "execution_count": 56,
     "metadata": {},
     "output_type": "execute_result"
    }
   ],
   "source": [
    "adj_mat = np.ones((num_nodes, num_nodes))\n",
    "np.fill_diagonal(adj_mat, 0)\n",
    "\n",
    "int_length = 0.1; \n",
    "delta_pi = 1; delta_rho = 0.1; delta_lam = 0.1; n_cavi = 2\n",
    "\n",
    "VB = VariationalBayes(sampled_network=sampled_network, num_groups=2, \n",
    "                      num_nodes=num_nodes, alpha_0=1., beta_0=1.,\n",
    "                      sigma_0=0.5, eta_0=1., zeta_0=1., gamma_0=np.array([0.99, 1.01]),\n",
    "                      infer_graph_bool=True,\n",
    "                      T_max=T_max, int_length=int_length)\n",
    "VB.run_full_var_bayes(delta_pi=delta_pi,\n",
    "                      delta_rho=delta_rho,\n",
    "                      delta_lam=delta_lam,\n",
    "                      n_cavi=n_cavi,\n",
    "                      N_runs_ADAM=5)\n",
    "\n",
    "VB.tau_store[-1,:,:].mean(axis=0)"
   ]
  },
  {
   "cell_type": "code",
   "execution_count": 57,
   "metadata": {},
   "outputs": [
    {
     "data": {
      "text/plain": [
       "array([[0.01031724, 0.00916326],\n",
       "       [0.01007126, 0.00988415]])"
      ]
     },
     "execution_count": 57,
     "metadata": {},
     "output_type": "execute_result"
    }
   ],
   "source": [
    "VB.eta / (VB.eta + VB.zeta)"
   ]
  },
  {
   "cell_type": "code",
   "execution_count": 60,
   "metadata": {},
   "outputs": [
    {
     "data": {
      "text/plain": [
       "[<matplotlib.lines.Line2D at 0x7f77c558fe50>]"
      ]
     },
     "execution_count": 60,
     "metadata": {},
     "output_type": "execute_result"
    },
    {
     "data": {
      "image/png": "[encoded data removed]",
      "text/plain": [
       "<Figure size 640x480 with 1 Axes>"
      ]
     },
     "metadata": {},
     "output_type": "display_data"
    }
   ],
   "source": [
    "plt.plot(np.arange(101), VB.tau_store.mean(axis=1)[:,1])"
   ]
  },
  {
   "cell_type": "code",
   "execution_count": 53,
   "metadata": {},
   "outputs": [
    {
     "data": {
      "text/plain": [
       "[<matplotlib.lines.Line2D at 0x7f77b0d4b640>]"
      ]
     },
     "execution_count": 53,
     "metadata": {},
     "output_type": "execute_result"
    },
    {
     "data": {
      "image/png": "[encoded data removed]",
      "text/plain": [
       "<Figure size 640x480 with 1 Axes>"
      ]
     },
     "metadata": {},
     "output_type": "display_data"
    }
   ],
   "source": [
    "plt.plot(np.arange(101), VB.tau_store.mean(axis=1)[:,1])"
   ]
  },
  {
   "cell_type": "code",
   "execution_count": 37,
   "metadata": {},
   "outputs": [
    {
     "ename": "ValueError",
     "evalue": "x and y must have same first dimension, but have shapes (41,) and (101,)",
     "output_type": "error",
     "traceback": [
      "\u001b[0;31m---------------------------------------------------------------------------\u001b[0m",
      "\u001b[0;31mValueError\u001b[0m                                Traceback (most recent call last)",
      "Cell \u001b[0;32mIn[37], line 3\u001b[0m\n\u001b[1;32m      1\u001b[0m \u001b[38;5;28;01mfor\u001b[39;00m k \u001b[38;5;129;01min\u001b[39;00m \u001b[38;5;28mrange\u001b[39m(\u001b[38;5;241m2\u001b[39m):\n\u001b[1;32m      2\u001b[0m     \u001b[38;5;28;01mfor\u001b[39;00m m \u001b[38;5;129;01min\u001b[39;00m \u001b[38;5;28mrange\u001b[39m(\u001b[38;5;241m2\u001b[39m):\n\u001b[0;32m----> 3\u001b[0m         \u001b[43mplt\u001b[49m\u001b[38;5;241;43m.\u001b[39;49m\u001b[43mplot\u001b[49m\u001b[43m(\u001b[49m\u001b[43mnp\u001b[49m\u001b[38;5;241;43m.\u001b[39;49m\u001b[43marange\u001b[49m\u001b[43m(\u001b[49m\u001b[38;5;241;43m41\u001b[39;49m\u001b[43m)\u001b[49m\u001b[43m,\u001b[49m\u001b[43m \u001b[49m\n\u001b[1;32m      4\u001b[0m \u001b[43m                 \u001b[49m\u001b[43mVB\u001b[49m\u001b[38;5;241;43m.\u001b[39;49m\u001b[43malpha_store\u001b[49m\u001b[43m[\u001b[49m\u001b[43m:\u001b[49m\u001b[43m,\u001b[49m\u001b[43mk\u001b[49m\u001b[43m,\u001b[49m\u001b[43mm\u001b[49m\u001b[43m]\u001b[49m\u001b[43m \u001b[49m\u001b[38;5;241;43m/\u001b[39;49m\u001b[43m \u001b[49m\u001b[43mVB\u001b[49m\u001b[38;5;241;43m.\u001b[39;49m\u001b[43mbeta_store\u001b[49m\u001b[43m[\u001b[49m\u001b[43m:\u001b[49m\u001b[43m,\u001b[49m\u001b[43mk\u001b[49m\u001b[43m,\u001b[49m\u001b[43mm\u001b[49m\u001b[43m]\u001b[49m\u001b[43m)\u001b[49m\n",
      "File \u001b[0;32m~/Documents/PhD/online_networks/code/online_networks_venv/lib/python3.10/site-packages/matplotlib/pyplot.py:3590\u001b[0m, in \u001b[0;36mplot\u001b[0;34m(scalex, scaley, data, *args, **kwargs)\u001b[0m\n\u001b[1;32m   3582\u001b[0m \u001b[38;5;129m@_copy_docstring_and_deprecators\u001b[39m(Axes\u001b[38;5;241m.\u001b[39mplot)\n\u001b[1;32m   3583\u001b[0m \u001b[38;5;28;01mdef\u001b[39;00m \u001b[38;5;21mplot\u001b[39m(\n\u001b[1;32m   3584\u001b[0m     \u001b[38;5;241m*\u001b[39margs: \u001b[38;5;28mfloat\u001b[39m \u001b[38;5;241m|\u001b[39m ArrayLike \u001b[38;5;241m|\u001b[39m \u001b[38;5;28mstr\u001b[39m,\n\u001b[0;32m   (...)\u001b[0m\n\u001b[1;32m   3588\u001b[0m     \u001b[38;5;241m*\u001b[39m\u001b[38;5;241m*\u001b[39mkwargs,\n\u001b[1;32m   3589\u001b[0m ) \u001b[38;5;241m-\u001b[39m\u001b[38;5;241m>\u001b[39m \u001b[38;5;28mlist\u001b[39m[Line2D]:\n\u001b[0;32m-> 3590\u001b[0m     \u001b[38;5;28;01mreturn\u001b[39;00m \u001b[43mgca\u001b[49m\u001b[43m(\u001b[49m\u001b[43m)\u001b[49m\u001b[38;5;241;43m.\u001b[39;49m\u001b[43mplot\u001b[49m\u001b[43m(\u001b[49m\n\u001b[1;32m   3591\u001b[0m \u001b[43m        \u001b[49m\u001b[38;5;241;43m*\u001b[39;49m\u001b[43margs\u001b[49m\u001b[43m,\u001b[49m\n\u001b[1;32m   3592\u001b[0m \u001b[43m        \u001b[49m\u001b[43mscalex\u001b[49m\u001b[38;5;241;43m=\u001b[39;49m\u001b[43mscalex\u001b[49m\u001b[43m,\u001b[49m\n\u001b[1;32m   3593\u001b[0m \u001b[43m        \u001b[49m\u001b[43mscaley\u001b[49m\u001b[38;5;241;43m=\u001b[39;49m\u001b[43mscaley\u001b[49m\u001b[43m,\u001b[49m\n\u001b[1;32m   3594\u001b[0m \u001b[43m        \u001b[49m\u001b[38;5;241;43m*\u001b[39;49m\u001b[38;5;241;43m*\u001b[39;49m\u001b[43m(\u001b[49m\u001b[43m{\u001b[49m\u001b[38;5;124;43m\"\u001b[39;49m\u001b[38;5;124;43mdata\u001b[39;49m\u001b[38;5;124;43m\"\u001b[39;49m\u001b[43m:\u001b[49m\u001b[43m \u001b[49m\u001b[43mdata\u001b[49m\u001b[43m}\u001b[49m\u001b[43m \u001b[49m\u001b[38;5;28;43;01mif\u001b[39;49;00m\u001b[43m \u001b[49m\u001b[43mdata\u001b[49m\u001b[43m \u001b[49m\u001b[38;5;129;43;01mis\u001b[39;49;00m\u001b[43m \u001b[49m\u001b[38;5;129;43;01mnot\u001b[39;49;00m\u001b[43m \u001b[49m\u001b[38;5;28;43;01mNone\u001b[39;49;00m\u001b[43m \u001b[49m\u001b[38;5;28;43;01melse\u001b[39;49;00m\u001b[43m \u001b[49m\u001b[43m{\u001b[49m\u001b[43m}\u001b[49m\u001b[43m)\u001b[49m\u001b[43m,\u001b[49m\n\u001b[1;32m   3595\u001b[0m \u001b[43m        \u001b[49m\u001b[38;5;241;43m*\u001b[39;49m\u001b[38;5;241;43m*\u001b[39;49m\u001b[43mkwargs\u001b[49m\u001b[43m,\u001b[49m\n\u001b[1;32m   3596\u001b[0m \u001b[43m    \u001b[49m\u001b[43m)\u001b[49m\n",
      "File \u001b[0;32m~/Documents/PhD/online_networks/code/online_networks_venv/lib/python3.10/site-packages/matplotlib/axes/_axes.py:1724\u001b[0m, in \u001b[0;36mAxes.plot\u001b[0;34m(self, scalex, scaley, data, *args, **kwargs)\u001b[0m\n\u001b[1;32m   1481\u001b[0m \u001b[38;5;250m\u001b[39m\u001b[38;5;124;03m\"\"\"\u001b[39;00m\n\u001b[1;32m   1482\u001b[0m \u001b[38;5;124;03mPlot y versus x as lines and/or markers.\u001b[39;00m\n\u001b[1;32m   1483\u001b[0m \n\u001b[0;32m   (...)\u001b[0m\n\u001b[1;32m   1721\u001b[0m \u001b[38;5;124;03m(``'green'``) or hex strings (``'#008000'``).\u001b[39;00m\n\u001b[1;32m   1722\u001b[0m \u001b[38;5;124;03m\"\"\"\u001b[39;00m\n\u001b[1;32m   1723\u001b[0m kwargs \u001b[38;5;241m=\u001b[39m cbook\u001b[38;5;241m.\u001b[39mnormalize_kwargs(kwargs, mlines\u001b[38;5;241m.\u001b[39mLine2D)\n\u001b[0;32m-> 1724\u001b[0m lines \u001b[38;5;241m=\u001b[39m [\u001b[38;5;241m*\u001b[39m\u001b[38;5;28mself\u001b[39m\u001b[38;5;241m.\u001b[39m_get_lines(\u001b[38;5;28mself\u001b[39m, \u001b[38;5;241m*\u001b[39margs, data\u001b[38;5;241m=\u001b[39mdata, \u001b[38;5;241m*\u001b[39m\u001b[38;5;241m*\u001b[39mkwargs)]\n\u001b[1;32m   1725\u001b[0m \u001b[38;5;28;01mfor\u001b[39;00m line \u001b[38;5;129;01min\u001b[39;00m lines:\n\u001b[1;32m   1726\u001b[0m     \u001b[38;5;28mself\u001b[39m\u001b[38;5;241m.\u001b[39madd_line(line)\n",
      "File \u001b[0;32m~/Documents/PhD/online_networks/code/online_networks_venv/lib/python3.10/site-packages/matplotlib/axes/_base.py:303\u001b[0m, in \u001b[0;36m_process_plot_var_args.__call__\u001b[0;34m(self, axes, data, *args, **kwargs)\u001b[0m\n\u001b[1;32m    301\u001b[0m     this \u001b[38;5;241m+\u001b[39m\u001b[38;5;241m=\u001b[39m args[\u001b[38;5;241m0\u001b[39m],\n\u001b[1;32m    302\u001b[0m     args \u001b[38;5;241m=\u001b[39m args[\u001b[38;5;241m1\u001b[39m:]\n\u001b[0;32m--> 303\u001b[0m \u001b[38;5;28;01myield from\u001b[39;00m \u001b[38;5;28;43mself\u001b[39;49m\u001b[38;5;241;43m.\u001b[39;49m\u001b[43m_plot_args\u001b[49m\u001b[43m(\u001b[49m\n\u001b[1;32m    304\u001b[0m \u001b[43m    \u001b[49m\u001b[43maxes\u001b[49m\u001b[43m,\u001b[49m\u001b[43m \u001b[49m\u001b[43mthis\u001b[49m\u001b[43m,\u001b[49m\u001b[43m \u001b[49m\u001b[43mkwargs\u001b[49m\u001b[43m,\u001b[49m\u001b[43m \u001b[49m\u001b[43mambiguous_fmt_datakey\u001b[49m\u001b[38;5;241;43m=\u001b[39;49m\u001b[43mambiguous_fmt_datakey\u001b[49m\u001b[43m)\u001b[49m\n",
      "File \u001b[0;32m~/Documents/PhD/online_networks/code/online_networks_venv/lib/python3.10/site-packages/matplotlib/axes/_base.py:499\u001b[0m, in \u001b[0;36m_process_plot_var_args._plot_args\u001b[0;34m(self, axes, tup, kwargs, return_kwargs, ambiguous_fmt_datakey)\u001b[0m\n\u001b[1;32m    496\u001b[0m     axes\u001b[38;5;241m.\u001b[39myaxis\u001b[38;5;241m.\u001b[39mupdate_units(y)\n\u001b[1;32m    498\u001b[0m \u001b[38;5;28;01mif\u001b[39;00m x\u001b[38;5;241m.\u001b[39mshape[\u001b[38;5;241m0\u001b[39m] \u001b[38;5;241m!=\u001b[39m y\u001b[38;5;241m.\u001b[39mshape[\u001b[38;5;241m0\u001b[39m]:\n\u001b[0;32m--> 499\u001b[0m     \u001b[38;5;28;01mraise\u001b[39;00m \u001b[38;5;167;01mValueError\u001b[39;00m(\u001b[38;5;124mf\u001b[39m\u001b[38;5;124m\"\u001b[39m\u001b[38;5;124mx and y must have same first dimension, but \u001b[39m\u001b[38;5;124m\"\u001b[39m\n\u001b[1;32m    500\u001b[0m                      \u001b[38;5;124mf\u001b[39m\u001b[38;5;124m\"\u001b[39m\u001b[38;5;124mhave shapes \u001b[39m\u001b[38;5;132;01m{\u001b[39;00mx\u001b[38;5;241m.\u001b[39mshape\u001b[38;5;132;01m}\u001b[39;00m\u001b[38;5;124m and \u001b[39m\u001b[38;5;132;01m{\u001b[39;00my\u001b[38;5;241m.\u001b[39mshape\u001b[38;5;132;01m}\u001b[39;00m\u001b[38;5;124m\"\u001b[39m)\n\u001b[1;32m    501\u001b[0m \u001b[38;5;28;01mif\u001b[39;00m x\u001b[38;5;241m.\u001b[39mndim \u001b[38;5;241m>\u001b[39m \u001b[38;5;241m2\u001b[39m \u001b[38;5;129;01mor\u001b[39;00m y\u001b[38;5;241m.\u001b[39mndim \u001b[38;5;241m>\u001b[39m \u001b[38;5;241m2\u001b[39m:\n\u001b[1;32m    502\u001b[0m     \u001b[38;5;28;01mraise\u001b[39;00m \u001b[38;5;167;01mValueError\u001b[39;00m(\u001b[38;5;124mf\u001b[39m\u001b[38;5;124m\"\u001b[39m\u001b[38;5;124mx and y can be no greater than 2D, but have \u001b[39m\u001b[38;5;124m\"\u001b[39m\n\u001b[1;32m    503\u001b[0m                      \u001b[38;5;124mf\u001b[39m\u001b[38;5;124m\"\u001b[39m\u001b[38;5;124mshapes \u001b[39m\u001b[38;5;132;01m{\u001b[39;00mx\u001b[38;5;241m.\u001b[39mshape\u001b[38;5;132;01m}\u001b[39;00m\u001b[38;5;124m and \u001b[39m\u001b[38;5;132;01m{\u001b[39;00my\u001b[38;5;241m.\u001b[39mshape\u001b[38;5;132;01m}\u001b[39;00m\u001b[38;5;124m\"\u001b[39m)\n",
      "\u001b[0;31mValueError\u001b[0m: x and y must have same first dimension, but have shapes (41,) and (101,)"
     ]
    },
    {
     "data": {
      "image/png": "[encoded data removed]",
      "text/plain": [
       "<Figure size 640x480 with 1 Axes>"
      ]
     },
     "metadata": {},
     "output_type": "display_data"
    }
   ],
   "source": [
    "for k in range(2):\n",
    "    for m in range(2):\n",
    "        plt.plot(np.arange(41), \n",
    "                 VB.alpha_store[:,k,m] / VB.beta_store[:,k,m])"
   ]
  },
  {
   "cell_type": "code",
   "execution_count": 6,
   "metadata": {},
   "outputs": [
    {
     "data": {
      "text/plain": [
       "0.20243226873521647"
      ]
     },
     "execution_count": 6,
     "metadata": {},
     "output_type": "execute_result"
    }
   ],
   "source": [
    "VB.eta / (VB.eta + VB.zeta)"
   ]
  },
  {
   "cell_type": "code",
   "execution_count": 59,
   "metadata": {},
   "outputs": [
    {
     "data": {
      "image/png": "[encoded data removed]",
      "text/plain": [
       "<Figure size 640x480 with 1 Axes>"
      ]
     },
     "metadata": {},
     "output_type": "display_data"
    }
   ],
   "source": [
    "for k in range(2):\n",
    "    for m in range(2):\n",
    "        plt.plot(np.arange(101), VB.alpha_store[:,k,m] / VB.beta_store[:,k,m])"
   ]
  },
  {
   "cell_type": "code",
   "execution_count": null,
   "metadata": {},
   "outputs": [
    {
     "data": {
      "text/plain": [
       "array([[[5.00000000e-001, 5.00000000e-001],\n",
       "        [5.00000000e-001, 5.00000000e-001],\n",
       "        [5.00000000e-001, 5.00000000e-001],\n",
       "        ...,\n",
       "        [5.00000000e-001, 5.00000000e-001],\n",
       "        [5.00000000e-001, 5.00000000e-001],\n",
       "        [5.00000000e-001, 5.00000000e-001]],\n",
       "\n",
       "       [[9.83340781e-021, 1.00000000e+000],\n",
       "        [3.70310666e-018, 1.00000000e+000],\n",
       "        [1.45620782e-017, 1.00000000e+000],\n",
       "        ...,\n",
       "        [1.00000000e+000, 1.04552669e-037],\n",
       "        [1.00000000e+000, 1.98976096e-065],\n",
       "        [1.00000000e+000, 3.21652626e-038]],\n",
       "\n",
       "       [[6.56160190e-020, 1.00000000e+000],\n",
       "        [3.65390939e-017, 1.00000000e+000],\n",
       "        [1.34687831e-020, 1.00000000e+000],\n",
       "        ...,\n",
       "        [1.00000000e+000, 2.85799950e-040],\n",
       "        [1.00000000e+000, 2.52416198e-068],\n",
       "        [1.00000000e+000, 3.12991599e-051]],\n",
       "\n",
       "       ...,\n",
       "\n",
       "       [[5.64027243e-124, 1.00000000e+000],\n",
       "        [2.18891021e-113, 1.00000000e+000],\n",
       "        [2.80185896e-132, 1.00000000e+000],\n",
       "        ...,\n",
       "        [1.00000000e+000, 3.57076670e-127],\n",
       "        [1.00000000e+000, 7.44164635e-136],\n",
       "        [1.00000000e+000, 6.66099868e-110]],\n",
       "\n",
       "       [[4.30202993e-132, 1.00000000e+000],\n",
       "        [1.83104387e-121, 1.00000000e+000],\n",
       "        [6.20855097e-125, 1.00000000e+000],\n",
       "        ...,\n",
       "        [1.00000000e+000, 9.34716837e-129],\n",
       "        [1.00000000e+000, 1.59663531e-133],\n",
       "        [1.00000000e+000, 2.58010996e-139]],\n",
       "\n",
       "       [[1.26830440e-117, 1.00000000e+000],\n",
       "        [1.13167997e-109, 1.00000000e+000],\n",
       "        [5.86047561e-125, 1.00000000e+000],\n",
       "        ...,\n",
       "        [1.00000000e+000, 7.95018965e-131],\n",
       "        [1.00000000e+000, 9.83469409e-137],\n",
       "        [1.00000000e+000, 1.05445939e-135]]])"
      ]
     },
     "execution_count": 8,
     "metadata": {},
     "output_type": "execute_result"
    }
   ],
   "source": [
    "VB.tau_store"
   ]
  },
  {
   "cell_type": "code",
   "execution_count": null,
   "metadata": {},
   "outputs": [],
   "source": [
    "int_length = 1; \n",
    "delta_pi = 1; delta_rho = 0.1; delta_lam = 0.1; n_cavi = 2\n",
    "\n",
    "VB = VariationalBayes(sampled_network=sampled_network, num_groups=2, \n",
    "                      adj_mat=np.ones((num_nodes, num_nodes)),\n",
    "                      num_nodes=num_nodes, alpha_0=1., beta_0=1.,\n",
    "                      sigma_0=0.5, eta_0=1., zeta_0=1., gamma_0=np.array([0.99, 1.01]),\n",
    "                      infer_graph_bool=False,\n",
    "                      T_max=T_max, int_length=int_length)\n",
    "VB.run_full_var_bayes(delta_pi=delta_pi,\n",
    "                      delta_rho=delta_rho,\n",
    "                      delta_lam=delta_lam,\n",
    "                      n_cavi=n_cavi)\n",
    "\n",
    "VB.tau_store[-1,:,:].mean(axis=0)"
   ]
  },
  {
   "cell_type": "code",
   "execution_count": null,
   "metadata": {},
   "outputs": [],
   "source": [
    "# int_length = 0.1; burn_in = 1\n",
    "\n",
    "# delta_pi = 1; delta_rho = 0.1; delta_lam = 1; n_cavi = 3\n",
    "# sigma_0 = np.ones((num_nodes, num_nodes)) * 0.5\n",
    "\n",
    "# VB = VariationalBayes(sampled_network=sampled_network, \n",
    "#                       num_nodes=num_nodes, alpha_0=1, beta_0=1, eta_0=1, \n",
    "#                       zeta_0=1, gamma_0 = np.array([0.99, 1.01]), \n",
    "#                       sigma_0=sigma_0, infer_graph_bool=True,\n",
    "#                       num_groups=2, T_max=T_max, int_length=int_length)\n",
    "# VB.run_full_var_bayes(delta_pi=delta_pi,\n",
    "#                       delta_rho=delta_rho,\n",
    "#                       delta_lam=delta_lam,\n",
    "#                       n_cavi=n_cavi)\n",
    "\n",
    "# VB.tau_store[-1,:,:].mean(axis=0)\n",
    "\n",
    "int_length = 0.1; burn_in = 1\n",
    "\n",
    "delta_pi = 1; delta_rho = 1; delta_lam = 0.1; n_cavi = 3\n",
    "\n",
    "VB = VariationalBayes(sampled_network=sampled_network, \n",
    "                      num_nodes=num_nodes, alpha_0=1, \n",
    "                      beta_0=1, gamma_0 = np.array([0.99, 1.01]), \n",
    "                      adj_mat=adj_mat, num_groups=2, T_max=T_max, \n",
    "                      int_length=int_length)\n",
    "VB.run_full_var_bayes(delta_pi=delta_pi,\n",
    "                      delta_rho=delta_rho,\n",
    "                      delta_lam=delta_lam,\n",
    "                      n_cavi=n_cavi)\n",
    "\n",
    "VB.tau_store[-1,:,:].mean(axis=0)"
   ]
  },
  {
   "cell_type": "code",
   "execution_count": null,
   "metadata": {},
   "outputs": [],
   "source": []
  },
  {
   "cell_type": "code",
   "execution_count": null,
   "metadata": {},
   "outputs": [
    {
     "name": "stdout",
     "output_type": "stream",
     "text": [
      "Time taken term 1a: 0.6123933792114258\n",
      "Time taken term 1b: 0.5506880283355713\n",
      "Time taken term 1c: 0.44406771659851074\n",
      "Time taken term 1d: 0.4745206832885742\n",
      "Time taken term 2: 7.939338684082031e-05\n",
      "Time taken term 3: 2.5033950805664062e-05\n",
      "[-272505.68156963 -272853.82185149 -272584.61092709 -272034.76536862\n",
      " -272387.20810121 -272930.6491303  -272770.95109686 -272465.88639368\n",
      " -272652.69512265 -272315.48943214 -272838.40590702 -272920.58338386\n",
      " -273015.52475921 -272562.85839049 -272132.7309455  -272633.32326445\n",
      " -272533.29956724 -272958.73590152 -273339.34561194 -272867.662437\n",
      " -272998.79878859 -272362.93401824 -272866.21482444 -271758.33848559\n",
      " -272926.16079619 -272498.97722308 -272955.96428221 -272533.59335236\n",
      " -272391.18297429 -272819.86480953 -272564.81316031 -273078.06255489\n",
      " -272376.7874192  -272710.74559815 -272769.90137482 -272285.07793642\n",
      " -272469.69282268 -272804.7245767  -272417.77764177 -272212.23066544\n",
      " -273137.94829681 -272123.79189477 -272158.92852603 -272230.60200846\n",
      " -272417.22042316 -272508.36469357 -272422.05292614 -272219.97102545\n",
      " -272559.63551869 -272567.34805865 -272867.77299014 -272444.30493216\n",
      " -272247.3827641  -272690.66929752 -272523.60700037 -273182.58875021\n",
      " -272512.96883601 -272628.05461716 -272407.58967549 -272146.24986096\n",
      " -272486.75734711 -272404.58761178 -272704.37747689 -272371.60726783\n",
      " -273537.11917431 -272733.84802645 -272631.99564494 -272797.76736038\n",
      " -272676.04603068 -272117.53663896 -272465.95645398 -272050.33181217\n",
      " -272950.07458379 -272779.40422948 -272828.99046262 -272538.08645146\n",
      " -272873.30237585 -272822.55484402 -272273.23508463 -272739.94840592\n",
      " -272759.69508895 -272657.44608882 -272785.82771992 -272663.13196207\n",
      " -272517.33569199 -272984.08721262 -271960.08585312 -272723.03437616\n",
      " -273253.69845284 -272451.45897989 -273222.30217685 -272948.57330315\n",
      " -272677.75336048 -272723.55736886 -272678.57174715 -272578.90056407\n",
      " -272597.09455772 -272201.39494117 -272602.75328972 -272520.39826143]\n",
      "Time: 2.083263635635376\n"
     ]
    }
   ],
   "source": [
    "from scipy.special import gammaln\n",
    "from scipy.stats import median_abs_deviation, dirichlet, bernoulli\n",
    "from scipy.stats import beta as beta_\n",
    "from scipy.stats import gamma as gamma_\n",
    "import time\n",
    "\n",
    "num_nodes = 250; num_groups = 2\n",
    "update_time = 5\n",
    "gamma = np.random.uniform(0, 1, (num_groups,))\n",
    "eta = np.random.uniform(0, 1, (num_groups, num_groups))\n",
    "zeta = np.random.uniform(0, 1, (num_groups, num_groups))\n",
    "alpha = np.random.uniform(0, 1, (num_groups, num_groups))\n",
    "beta = np.random.uniform(0, 1, (num_groups, num_groups))\n",
    "sigma = np.random.uniform(0, 1, (num_nodes, num_nodes))\n",
    "tau = np.random.uniform(0, 1, (num_nodes, num_groups))\n",
    "x_val = np.random.poisson(1, (num_nodes, num_nodes))\n",
    "x_bool = x_val > 0\n",
    "tau_max_idx = tau.argmax(axis=1)\n",
    "z_val = np.zeros((num_nodes, num_groups))\n",
    "z_val[np.arange(num_nodes), tau_max_idx] = 1\n",
    "a_samples = np.ones((100, num_nodes, num_nodes))\n",
    "u = np.random.uniform(0, 1, (100, num_nodes, num_nodes))\n",
    "u_bool = u > sigma[np.newaxis, ...]\n",
    "a_samples[u_bool] = 0\n",
    "a_samples[:, x_bool] = 1\n",
    "lambda_val = np.random.uniform(0, 1, (num_groups, num_groups))\n",
    "pi_val = np.random.uniform(0, 1, (num_groups, )) \n",
    "pi_val = pi_val / pi_val.sum()\n",
    "rho_val = np.random.uniform(0, 1, (num_groups, num_groups))\n",
    "\n",
    "def _log_joint(a, x, z, rho, lambda_, pi):\n",
    "    # CHECK IF WE WANT DEPENDENCE ON FULL DATA OR JUST OBSERVATION WINDOW\n",
    "    start = time.time()\n",
    "    term1a = np.einsum('lij,ik,jm,ij,km -> l', a, z, z, x, np.log(lambda_),\n",
    "                       optimize='optimal')\n",
    "    end = time.time()\n",
    "    print(f\"Time taken term 1a: {end - start}\")\n",
    "    start = time.time()\n",
    "    term1b = np.einsum('lij,ik,jm,km -> l', a, z, z, -update_time * lambda_,\n",
    "                       optimize='optimal')\n",
    "    end = time.time()\n",
    "    print(f\"Time taken term 1b: {end - start}\")\n",
    "    start = time.time()\n",
    "    term1c = np.einsum('ik,jm,lij,km -> l', z, z, a, np.log(rho),\n",
    "                       optimize='optimal')\n",
    "    end = time.time()\n",
    "    print(f\"Time taken term 1c: {end - start}\")\n",
    "    start = time.time()\n",
    "    term1d = np.einsum('ik,jm,lij,km -> l', z, z,(1 - a), np.log(1 - rho),\n",
    "                       optimize='optimal')\n",
    "    end = time.time()\n",
    "    print(f\"Time taken term 1d: {end - start}\")\n",
    "    term1 = term1a + term1b + term1c + term1d\n",
    "    \n",
    "    start = time.time()\n",
    "    term2a = np.matmul(z, np.log(pi)).sum()\n",
    "    term2b = ((gamma - 1) * np.log(pi) + gammaln(gamma)).sum()\n",
    "    term2c = gammaln(np.sum(gamma))\n",
    "    term2 = term2a + term2b + term2c\n",
    "    end = time.time()\n",
    "    print(f\"Time taken term 2: {end - start}\")\n",
    "    \n",
    "    start = time.time()\n",
    "    term3 = (\n",
    "        gammaln(eta + zeta) - gammaln(eta) -\n",
    "        gammaln(zeta) + (eta - 1) * np.log(rho) +\n",
    "        (zeta - 1) * np.log(1 - rho) + \n",
    "        alpha * np.log(beta) - gammaln(alpha) + \n",
    "        (alpha - 1) * np.log(lambda_) - beta * lambda_\n",
    "    ).sum()\n",
    "    end = time.time()\n",
    "    print(f\"Time taken term 3: {end - start}\")\n",
    "\n",
    "    return term1 + term2 + term3\n",
    "\n",
    "start = time.time()\n",
    "_log_joint(a_samples, x_val, z_val, rho_val, lambda_val, pi_val)\n",
    "end = time.time()\n",
    "print(f\"Time: {end - start}\")"
   ]
  },
  {
   "cell_type": "code",
   "execution_count": null,
   "metadata": {},
   "outputs": [],
   "source": [
    "for i in range(2):\n",
    "    for j in range(2):\n",
    "        plt.plot(np.arange(0, T_max + int_length, int_length), \n",
    "                 [VB.alpha_store[k,i,j]/VB.beta_store[k,i,j] for k in np.arange(0, int(T_max/int_length) + 1)])\n",
    "\n",
    "# plt.axvline(x=5, linestyle='--', color='black', linewidth=1);\n",
    "# plt.plot(np.arange(6), [2,2,2,2,2,2], linestyle='--', color='black', linewidth=1)\n",
    "# plt.plot(np.arange(5, 20), [8] * len(np.arange(5,20)), linestyle='--', color='black', linewidth=1)\n",
    "# plt.plot(np.arange(5, 20), [2] * len(np.arange(5,20)), linestyle='--', color='black', linewidth=1)\n",
    "# plt.plot(np.arange(5, 20), [1] * len(np.arange(5,20)), linestyle='--', color='black', linewidth=1)\n",
    "# plt.plot(np.arange(5, 20), [0.3] * len(np.arange(5,20)), linestyle='--', color='black', linewidth=1)\n",
    "# plt.savefig(\"group_creation.pdf\")"
   ]
  },
  {
   "cell_type": "code",
   "execution_count": null,
   "metadata": {},
   "outputs": [],
   "source": [
    "int_length = 0.1\n",
    "\n",
    "# sigma_init = np.random.uniform(0,1,num_nodes ** 2).reshape((num_nodes,num_nodes))\n",
    "param_prior = np.array([1] * num_groups ** 2).reshape((num_groups, num_groups))\n",
    "\n",
    "delta_pi = 1; delta_rho = 1; delta_lam = 0.1; n_cavi = 2\n",
    "\n",
    "VB = VariationalBayes(sampled_network=sampled_network, \n",
    "                      num_nodes=num_nodes, \n",
    "                      num_groups=num_groups, \n",
    "                      alpha_0=1, \n",
    "                      beta_0=1,\n",
    "                      gamma_0 = np.array([0.99, 1.01]),\n",
    "                      int_length=int_length,\n",
    "                      T_max=T_max,\n",
    "                      adj_mat=adj_mat)\n",
    "VB.run_full_var_bayes(delta_pi=delta_pi,\n",
    "                      delta_rho=delta_rho,\n",
    "                      delta_lam=delta_lam,\n",
    "                      n_cavi=n_cavi,\n",
    "                      cp_kl_lag_steps=2,\n",
    "                      cp_burn_steps=5,\n",
    "                      cp_stationary_steps=10,\n",
    "                      cp_kl_thresh=100,\n",
    "                      cp_rate_wait=0,\n",
    "                      ARLO_bool=True)\n",
    "\n",
    "VB.tau_store[-1,:,:].mean(axis=0)"
   ]
  },
  {
   "cell_type": "code",
   "execution_count": null,
   "metadata": {},
   "outputs": [],
   "source": [
    "VB.group_changes_list"
   ]
  },
  {
   "cell_type": "code",
   "execution_count": null,
   "metadata": {},
   "outputs": [],
   "source": [
    "rate_matrices = PN.lam_matrices\n",
    "rate_mat_old = rate_matrices[0]\n",
    "\n",
    "entry_change = np.zeros((len(rate_change_times), 2))\n",
    "\n",
    "for cp in range(len(rate_change_times)):\n",
    "    rate_mat_curr = rate_matrices[cp + 1]\n",
    "    entry_change[cp,:] = np.argwhere(rate_mat_curr != rate_mat_old)\n",
    "    rate_mat_old = rate_mat_curr"
   ]
  },
  {
   "cell_type": "code",
   "execution_count": null,
   "metadata": {},
   "outputs": [],
   "source": [
    "alpha = VB.alpha_store; beta = VB.beta_store\n",
    "for j in [0,1]:\n",
    "    for k in [0,1]:\n",
    "        plt.plot(np.arange(0, T_max, int_length),\n",
    "                    [alpha[i,j,k] / beta[i,j,k] for i in np.arange(int(T_max/int_length))],\n",
    "                    linewidth=2)\n",
    "        plt.axhline(y=lam_matrix[j,k], linestyle='--', color='black', linewidth=1)\n",
    "\n",
    "# g_out = 1; g_in = 0\n",
    "# idx_set = np.where(np.all(entry_change == [g_out, g_in], axis=1))[0]\n",
    "# for idx in idx_set:\n",
    "#        plt.axvline(x=rate_change_times[idx], linestyle='--', color='black', linewidth=0.75)\n",
    "# for cp in rate_change_times:\n",
    "#     plt.axvline(x=cp, linestyle='--', color='black', linewidth=0.75)\n",
    "\n",
    "# plt.ylim([0,5.5]);\n",
    "plt.xlabel('Iteration');\n",
    "plt.ylabel(r'$\\lambda$ posterior mean');\n",
    "plt.savefig('analyses/local_figures/motivating_rate_change_delta.pdf')"
   ]
  },
  {
   "cell_type": "code",
   "execution_count": null,
   "metadata": {},
   "outputs": [],
   "source": [
    "from scipy.special import gammaln, digamma\n",
    "\n",
    "def kl(a1, a2, b1, b2):\n",
    "    \"\"\"\n",
    "    Parameters:\n",
    "        - a1, b1: the rate and scale of the approx posterior from t-1.\n",
    "        - a2, b2: the rate and scale of the approx posterior from t.\n",
    "    \"\"\"\n",
    "    return (\n",
    "            a2 * np.log(b1 / b2) - gammaln(a1) + gammaln(a2) +\n",
    "            (a1 - a2) * digamma(a1) - (b1 - b2) * a1 / a2)\n",
    "\n",
    "burn_in = 1\n",
    "\n",
    "g_out = 0; g_in = 0\n",
    "\n",
    "legend_labels = []\n",
    "for lag in [1, 2]:\n",
    "        # Plot the mean of the posteriors for lambda with iteration number\n",
    "        for j in [1]:\n",
    "                for k in [1]:\n",
    "                        kl_vals = np.array([abs(kl(alpha[i,j,k], alpha[i - lag,j,k],\n",
    "                                                beta[i,j,k], beta[i - lag,j,k]))\n",
    "                                                for i in np.arange(int(burn_in/int_length), int(T_max/int_length), 1)])\n",
    "                        plt.plot(np.arange(burn_in, T_max, int_length),\n",
    "                                kl_vals, marker='o')\n",
    "\n",
    "# idx_set = np.where(np.all(entry_change == [g_out, g_in], axis=1))[0]\n",
    "# for idx in idx_set:\n",
    "#        plt.axvline(x=rate_change_times[idx], linestyle='--', color='black', linewidth=0.75)\n",
    "\n",
    "for cp in [1.5,2]:\n",
    "       plt.axvline(x=cp, linestyle='--', color='black', linewidth=0.75)\n",
    "\n",
    "plt.axvline([1.8], linestyle='--', color='black', linewidth=0.75)\n",
    "\n",
    "plt.ylim([-1,150])\n",
    "\n",
    "# idx_set = np.where(np.all(entry_change == [g_out, g_in], axis=1))[0]\n",
    "# for idx in idx_set:\n",
    "#        plt.axvline(x=[1.5,2][idx], linestyle='--', \n",
    "#                    color='red', linewidth=0.75)\n",
    "\n",
    "# plt.ylim([0,800])\n",
    "# plt.legend(legend_labels, title='Lag')\n",
    "plt.xlabel(\"Update time\")\n",
    "plt.title(\"KL divergence from current iteration to previous\");"
   ]
  },
  {
   "cell_type": "code",
   "execution_count": null,
   "metadata": {},
   "outputs": [],
   "source": [
    "VB.group_changes_list"
   ]
  },
  {
   "cell_type": "code",
   "execution_count": null,
   "metadata": {},
   "outputs": [],
   "source": [
    "np.median(kl_vals[:15]) * 25"
   ]
  },
  {
   "cell_type": "code",
   "execution_count": null,
   "metadata": {},
   "outputs": [],
   "source": [
    "max_lag = 2\n",
    "a = np.array([1,2,3,4,5,6,7,8,9,10])\n",
    "a1 = a[max_lag:]; a2 = a[(max_lag - 1):-1]\n",
    "kl_lag = a1 ** 2 + a2 ** 2"
   ]
  },
  {
   "cell_type": "code",
   "execution_count": null,
   "metadata": {},
   "outputs": [],
   "source": [
    "print(a1, a2, kl_lag)"
   ]
  },
  {
   "cell_type": "code",
   "execution_count": null,
   "metadata": {},
   "outputs": [],
   "source": [
    "a[max_lag:-1]"
   ]
  },
  {
   "cell_type": "code",
   "execution_count": null,
   "metadata": {},
   "outputs": [],
   "source": [
    "from scipy.stats import median_abs_deviation\n",
    "from scipy.special import gammaln, digamma\n",
    "\n",
    "\n",
    "def kl(a1, a2, b1, b2):\n",
    "    \"\"\"\n",
    "    Parameters:\n",
    "        - a1, b1: the rate and scale of the approx posterior from t-1.\n",
    "        - a2, b2: the rate and scale of the approx posterior from t.\n",
    "    \"\"\"\n",
    "    return (\n",
    "            a2 * np.log(b1 / b2) - gammaln(a1) + gammaln(a2) +\n",
    "            (a1 - a2) * digamma(a1) - (b1 - b2) * a1 / b1\n",
    "            )\n",
    "\n",
    "def kl_vector(alpha, beta, lag, max_lag):\n",
    "    \"\"\"\n",
    "    Parameters:\n",
    "        - alpha, beta: numpy arrays of all inferred values\n",
    "    \"\"\"\n",
    "    lag += 1\n",
    "    alpha_1 = alpha[max_lag:]; alpha_2 = alpha[(max_lag - lag):-lag]\n",
    "    beta_1 = beta[max_lag:]; beta_2 = beta[(max_lag - lag):-lag]\n",
    "    kl_lag = (\n",
    "        alpha_2 * np.log(beta_1 / beta_2) - \n",
    "        gammaln(alpha_1) + gammaln(alpha_2) +\n",
    "        (alpha_1 - alpha_2) * digamma(alpha_1) -\n",
    "        (beta_1 - beta_2) * alpha_1 / alpha_2\n",
    "    )\n",
    "    \n",
    "    return kl_lag\n",
    "\n",
    "# max_lag = 10\n",
    "# fig, axs = plt.subplots(max_lag, 1, figsize=(8, 10))\n",
    "\n",
    "# time = np.arange(T_max, int_length)\n",
    "# for lag in range(max_lag):\n",
    "#     kl_lag = kl_vector(alpha[init_burn:], beta[init_burn:], lag, max_lag)\n",
    "#     axs[lag].plot(np.arange(init_burn * int_length + max_lag * int_length, T_max + int_length, int_length), \n",
    "#              kl_lag[:,1,0], marker='o')\n",
    "#     axs[lag].set_xticks(np.arange(init_burn * int_length + lag * int_length, T_max + int_length, int_length))\n",
    "#     axs[lag].set_xticklabels('')\n",
    "\n",
    "# for lag in [1]:\n",
    "#     # Plot the mean of the posteriors for lambda with iteration number\n",
    "#     for j in [0]:\n",
    "#             for k in [0]:\n",
    "#                     kl_vals = np.array([abs(kl(alpha[i-lag,j,k], alpha[i,j,k],\n",
    "#                                             beta[i-lag,j,k], beta[i,j,k]))\n",
    "#                                             for i in np.arange(int(burn_in/int_length), int(T_max/int_length), 1)])\n",
    "\n",
    "# time = np.arange(1, T_max, int_length)\n",
    "# for i in range(2, len(kl_vals)):\n",
    "#     mad_val = MAD_outlier_detector(kl_vals[:i], 100)\n",
    "#     if mad_val:\n",
    "#         print(time[i])\n",
    "    \n",
    "def MAD_KL_outlier_detector(alpha, beta, max_lag, cutoff):\n",
    "    \"\"\"\n",
    "    The function takes data contains all points up to and including\n",
    "    the current update time, assuming that the burn-in points aren't \n",
    "    included. \n",
    "    \"\"\"\n",
    "    ## Compute the KL-divergences off all lags up to current lag\n",
    "    kl_lag_list = list()\n",
    "    kl_curr_datum_list = list()\n",
    "    for lag in range(1, max_lag + 1):\n",
    "        alpha_1 = alpha[max_lag:]; alpha_2 = alpha[(max_lag - lag):-lag]\n",
    "        beta_1 = beta[max_lag:]; beta_2 = beta[(max_lag - lag):-lag]\n",
    "        kl_lag = (\n",
    "            alpha_2 * np.log(beta_1 / beta_2) - \n",
    "            gammaln(alpha_1) + gammaln(alpha_2) +\n",
    "            (alpha_1 - alpha_2) * digamma(alpha_1) -\n",
    "            (beta_1 - beta_2) * alpha_1 / beta_1\n",
    "        )\n",
    "        kl_curr_datum_list.append(kl_lag[-1])\n",
    "        kl_lag_list.append(kl_lag[:-1])\n",
    "    kl_curr_datum = np.array(kl_curr_datum_list)\n",
    "    kl_lag = np.concatenate(kl_lag_list)\n",
    "\n",
    "    ## Compute the current MAD and the deviation of the current datum\n",
    "    # Current MAD (excluding current datum)\n",
    "    curr_MAD = median_abs_deviation(kl_lag)\n",
    "    # Deviation of current datum (for each lag up to max_lag)\n",
    "    MAD_deviation_lags = []\n",
    "    for i in range(max_lag):\n",
    "        MAD_deviation_lags.append(\n",
    "            np.abs(kl_curr_datum[i] - np.median(kl_lag)) / curr_MAD\n",
    "            )\n",
    "    # Flag as a change point if all lags are greater than the cutoff\n",
    "    if np.all(np.array(MAD_deviation_lags) > cutoff):\n",
    "        return 1\n",
    "    else: \n",
    "        return 0\n",
    "\n",
    "init_burn = 5; max_lag = 2; cut_off = 10; B = 0.5\n",
    "num_flagged = 0\n",
    "for k in [0, 1]:\n",
    "    for m in [0, 1]:\n",
    "        previous_change_time = 0\n",
    "        for i in np.arange(int(T_max/int_length)):\n",
    "            if i > (init_burn + max_lag):\n",
    "                cp_flag = MAD_KL_outlier_detector(\n",
    "                    alpha[init_burn:i, k, m], alpha[init_burn:i, k, m], max_lag, cut_off\n",
    "                    )\n",
    "                if cp_flag:\n",
    "                    latest_change_time = (i + init_burn) * int_length\n",
    "                    if latest_change_time - previous_change_time > B:\n",
    "                        print(f\"{k} -> {m}: {latest_change_time}\")\n",
    "                        previous_change_time = latest_change_time\n",
    "                        num_flagged += 1\n",
    "print(f\"Number flagged: {num_flagged}\")\n"
   ]
  },
  {
   "cell_type": "code",
   "execution_count": null,
   "metadata": {},
   "outputs": [],
   "source": [
    "rate_change_times"
   ]
  },
  {
   "cell_type": "code",
   "execution_count": null,
   "metadata": {},
   "outputs": [],
   "source": [
    "VB.rate_changes_list"
   ]
  },
  {
   "cell_type": "code",
   "execution_count": null,
   "metadata": {},
   "outputs": [],
   "source": [
    "rate_change_times"
   ]
  },
  {
   "cell_type": "code",
   "execution_count": null,
   "metadata": {},
   "outputs": [],
   "source": [
    "alpha_burned / beta_burned"
   ]
  },
  {
   "cell_type": "code",
   "execution_count": null,
   "metadata": {},
   "outputs": [],
   "source": [
    "entry_change"
   ]
  },
  {
   "cell_type": "code",
   "execution_count": null,
   "metadata": {},
   "outputs": [],
   "source": [
    "rate_change_times"
   ]
  },
  {
   "cell_type": "code",
   "execution_count": null,
   "metadata": {},
   "outputs": [],
   "source": [
    "PN.lam_matrices"
   ]
  },
  {
   "cell_type": "code",
   "execution_count": null,
   "metadata": {},
   "outputs": [],
   "source": [
    "from scipy.stats import gamma\n",
    "\n",
    "x = np.linspace(0,20,1000)\n",
    "for i in [99]:\n",
    "    pdf_values = gamma.pdf(x, VB.alpha_store[i][1,1], \n",
    "                                    scale=1/VB.beta_store[i][1,1])\n",
    "    plt.plot(x, pdf_values)\n",
    "    # pdf_values = gamma.pdf(x, VB.alpha_store[i][1,1], \n",
    "    #                                 scale=1/VB.beta_store[i][1,1])\n",
    "    # plt.plot(x, pdf_values)"
   ]
  },
  {
   "cell_type": "code",
   "execution_count": null,
   "metadata": {},
   "outputs": [],
   "source": [
    "nu_prior = np.ones((10,))\n",
    "tau = np.random.random((500,10))\n",
    "num_var_groups = 10\n",
    "\n",
    "omega = tau.sum(axis=0) + 1\n",
    "        \n",
    "## Compute nu using vectorisaion to avoid for loops\n",
    "# Create a mask to select appropriate elements tau\n",
    "mask = np.triu(np.ones((num_nodes, num_var_groups), dtype=bool), k=1)\n",
    "\n",
    "# Sum along the appropriate axes\n",
    "sum_tau = np.sum(tau[:, np.newaxis, :] * mask[np.newaxis, :, :], axis=(0,1))\n",
    "\n",
    "# Compute the final result\n",
    "nu = sum_tau + nu_prior\n",
    "nu"
   ]
  },
  {
   "cell_type": "code",
   "execution_count": null,
   "metadata": {},
   "outputs": [],
   "source": [
    "import time\n",
    "\n",
    "num_var_groups = 10\n",
    "tau = np.random.random((500, 10))\n",
    "nu_prior = np.ones((10,))\n",
    "\n",
    "start = time.time() \n",
    "sum_term = np.zeros((num_nodes,))\n",
    "nu = np.zeros((num_var_groups,))\n",
    "for j in range(num_var_groups):\n",
    "    sum_term[:] = tau[:, (j+1):].sum(axis=1) \n",
    "    nu[j] = sum_term.sum() + nu_prior[j]\n",
    "\n",
    "end = time.time()\n",
    "\n",
    "print(f\"Time: {end - start}\")\n",
    "\n",
    "print(nu)\n",
    "\n",
    "start = time.time()\n",
    "\n",
    "sum_term = np.zeros((num_nodes, ))\n",
    "nu = np.zeros((num_var_groups, ))\n",
    "for j in range(num_var_groups):\n",
    "    for i in range(num_nodes):\n",
    "        sum_term[i] = tau[i,(j+1):].sum() \n",
    "    nu[j] = sum_term.sum() + nu_prior[j]\n",
    "\n",
    "end = time.time()\n",
    "\n",
    "print(f\"Time: {end - start}\")\n",
    "\n",
    "print(nu)"
   ]
  },
  {
   "cell_type": "code",
   "execution_count": null,
   "metadata": {},
   "outputs": [],
   "source": [
    "import numpy as np\n",
    "from scipy.stats import gamma\n",
    "import matplotlib.pyplot as plt\n",
    "\n",
    "# Parameters for the gamma distribution\n",
    "shape = 2\n",
    "scale = 4 / shape\n",
    "\n",
    "# Range of x values\n",
    "x = np.linspace(0, 5, 1000)\n",
    "\n",
    "power = 0.1\n",
    "\n",
    "for i in range(5):\n",
    "    shape += 200\n",
    "    scale = 4 / shape\n",
    "    gamma_dist = gamma(power * (shape - 1) + 1, \n",
    "                    scale=scale/power)\n",
    "    pdf_values = gamma_dist.pdf(x)\n",
    "\n",
    "    # np.savetxt(f'gamma_pdf_2_7.csv', np.column_stack([x, pdf_values]))\n",
    "\n",
    "    # Plot the result\n",
    "    plt.plot(x, pdf_values)\n",
    "plt.show()\n"
   ]
  },
  {
   "cell_type": "code",
   "execution_count": null,
   "metadata": {},
   "outputs": [],
   "source": [
    "from scipy.special import gammaln, digamma\n",
    "import matplotlib.pyplot as plt\n",
    "import numpy as np\n",
    "\n",
    "def kl(a1, a2, b1, b2):\n",
    "    \"\"\"\n",
    "    Parameters:\n",
    "        - a1, b1: the rate and scale of the approx posterior from t-1.\n",
    "        - a2, b2: the rate and scale of the approx posterior from t.\n",
    "    \"\"\"\n",
    "    return (\n",
    "            a2 * np.log(b1 / b2) - gammaln(a1) + gammaln(a2) +\n",
    "            (a1 - a2) * digamma(a1) - (b1 - b2) * a1 / b1)\n",
    "\n",
    "a = 1000; eps1 = 1; eps2 = 1\n",
    "plt.plot(np.arange(1,10000,1), [kl(b, b + eps1, a, a + eps2) for b in np.arange(1,10000,1)]);"
   ]
  },
  {
   "cell_type": "code",
   "execution_count": null,
   "metadata": {},
   "outputs": [],
   "source": [
    "num_nodes = 250; num_groups = 2; T_max = 1\n",
    "# group_sizes = np.array([100, 250, 150])\n",
    "# lam_matrix = np.array([[2, 0.2, 3.0],\n",
    "#                        [0.3, 8.0, 6.0],\n",
    "#                        [2.0, 7.0, 25.0]])\n",
    "# num_nodes = 1000; num_groups = 4; T_max = 10\n",
    "# group_sizes = np.array([200, 300, 300, 200])\n",
    "# lam_matrix = np.array([[2, 0.2, 3.0, 15],\n",
    "#                        [0.3, 8.0, 6.0, 12],\n",
    "#                        [2.0, 7.0, 25.0, 14],\n",
    "#                        [13, 11, 12, 100]])\n",
    "\n",
    "group_sizes = np.array([240, 10])\n",
    "\n",
    "lam_matrix = np.array([[2, 1.0],\n",
    "                       [0.3, 8.0]])\n",
    "rho_matrix = np.array([[0.9, 0.9],\n",
    "                      [0.9, 0.9]])\n",
    "\n",
    "rate_matrices = [\n",
    "    lam_matrix,\n",
    "    np.array([[5, 1.0],\n",
    "              [0.3, 8.0]]),\n",
    "    np.array([[3, 1.0],\n",
    "              [0.3, 8]])]\n",
    "\n",
    "PN = PoissonNetwork(num_nodes, num_groups, T_max, lam_matrix=lam_matrix)\n",
    "sampled_network, groups_in_regions = (\n",
    "    PN.sample_network(group_sizes=group_sizes)\n",
    ")\n",
    "adj_mat = PN.adjacency_matrix"
   ]
  },
  {
   "cell_type": "code",
   "execution_count": null,
   "metadata": {},
   "outputs": [],
   "source": [
    "num_nodes = 250; num_groups = 2; T_max = 10\n",
    "\n",
    "group_sizes = np.array([248, 2])\n",
    "\n",
    "lam_matrix = np.array([[2, 1.0],\n",
    "                       [0.3, 8.0]])\n",
    "\n",
    "PN = PoissonNetwork(num_nodes, num_groups, T_max, lam_matrix=lam_matrix)\n",
    "sampled_network, groups_in_regions = (\n",
    "    PN.sample_network(group_sizes=group_sizes)\n",
    ")\n",
    "adj_mat = PN.adjacency_matrix\n",
    "\n",
    "def compute_eff_count(update_time, num_nodes, sampled_network):\n",
    "    \"\"\"\n",
    "    A method to compute the effective count on each edge. This is simply \n",
    "    the number of observations on an edge from update_time - int_length to\n",
    "    update_time. Parameters:\n",
    "        - update_time: time at which we run the update.  \n",
    "    \"\"\"\n",
    "    eff_count = np.zeros((num_nodes, num_nodes))\n",
    "    for i in range(num_nodes):\n",
    "        for j in range(num_nodes):\n",
    "            if sampled_network[i][j] is not None:\n",
    "                np_edge = np.array(\n",
    "                    sampled_network[i][j]\n",
    "                )\n",
    "                eff_count[i,j] = (\n",
    "                    len(\n",
    "                        np_edge[(np_edge < update_time)]\n",
    "                    )\n",
    "                )\n",
    "    return eff_count\n",
    "\n",
    "eff_count = compute_eff_count(T_max, num_nodes, sampled_network)\n",
    "\n",
    "tau = np.zeros((num_nodes, num_groups))\n",
    "# tau[:group_sizes[0],0] = 1; tau[group_sizes[0]:,1] = 1\n",
    "tau[0:-2,0] = 1; tau[-2:,1] = 0.15; tau[-2:,0] = 1 - tau[-2:,1]\n",
    "\n",
    "beta = np.array([[1,1], [1,1]]); alpha = np.array([[1,1], [1,1]])\n",
    "Delta = T_max; delta = 0.1\n",
    "sigma = np.ones((num_nodes, num_nodes))\n",
    "np.fill_diagonal(sigma, 0)\n",
    "\n",
    "for i in range(1000):\n",
    "    # delta = 1 - Delta * (tau.T @ tau)[k,m] / (beta * 500)\n",
    "    alpha = delta * (alpha - 1) + (tau.T @ eff_count @ tau) + 1\n",
    "    beta = (delta * beta + Delta * tau.T @ sigma @ tau)\n",
    "    # print(f\"alpha: {np.round(alpha,3)}, beta: {np.round(beta,3)}, mean: {np.round(alpha/beta,3)}\")\n",
    "print(f\"\"\"\n",
    "      lam00: {round(alpha[0,0]/beta[0,0], 1)}, \n",
    "      lam01: {round(alpha[0,1]/beta[0,1], 1)},\n",
    "      lam10: {round(alpha[1,0]/beta[1,0], 1)},\n",
    "      lam11: {round(alpha[1,1]/beta[1,1], 1)}\n",
    "\"\"\")\n"
   ]
  },
  {
   "cell_type": "code",
   "execution_count": null,
   "metadata": {},
   "outputs": [],
   "source": [
    "wh = np.array([[0.01, 0.5],\n",
    "                        [0.04, 1]]) < 0.1\n",
    "ind_wh = np.where(wh)\n",
    "a = np.array([[1,2],[3,4]])\n",
    "a[~wh] = 10\n",
    "a"
   ]
  },
  {
   "cell_type": "code",
   "execution_count": null,
   "metadata": {},
   "outputs": [],
   "source": [
    "tau = np.zeros((num_nodes, num_groups))\n",
    "tau[0:-2,0] = 1; tau[-2:,0] = 0; tau[-2:,1] = 1 - tau[-2:,0]\n",
    "tau"
   ]
  },
  {
   "cell_type": "code",
   "execution_count": null,
   "metadata": {},
   "outputs": [],
   "source": [
    "import numpy as np\n",
    "\n",
    "\n",
    "# def generate_random_array(N, K, target_sum):\n",
    "#     # Generate random array\n",
    "#     rand_array = np.random.rand(N, K)\n",
    "    \n",
    "#     # Normalize each row to have the target sum\n",
    "#     normalized_array = rand_array / rand_array.sum(axis=1, keepdims=True) * target_sum\n",
    "    \n",
    "#     return normalized_array\n",
    "\n",
    "# low_col = 0.1; k = 0; m = 0\n",
    "# tau = np.hstack((np.full((500,1), low_col), generate_random_array(500, 2, 1 - low_col)))\n",
    "# tau = np.zeros\n",
    "# tau = np.zeros((500, 2), dtype=int)\n",
    "# indices = np.random.randint(0, 2, size=500)\n",
    "# for i, idx in enumerate(indices):\n",
    "#     tau[i, idx] = 1\n",
    "\n",
    "beta = 10; alpha = 20\n",
    "Delta = 10\n",
    "poisson_matrix = np.random.poisson(Delta * alpha / beta, size=(500, 500))\n",
    "\n",
    "tau = np.zeros((500,2)); n = 10\n",
    "tau[:n,0] = 1; tau[:n,1] = 1 - tau[:n,0]; tau[n:,1] = 1\n",
    "\n",
    "k = 0; m = 0; delta = 0.1\n",
    "for i in range(10):\n",
    "    # delta = 1 - Delta * (tau.T @ tau)[k,m] / (beta * 500)\n",
    "    alpha = delta * (alpha - 1) + (tau.T @ poisson_matrix @ tau) + 1\n",
    "    beta = (delta * beta + Delta * tau.T @ tau)\n",
    "    # print(f\"alpha: {np.round(alpha,3)}, beta: {np.round(beta,3)}, mean: {np.round(alpha/beta,3)}\")\n",
    "    print(f\"mean: {np.round(alpha/beta,1)}\")\n"
   ]
  },
  {
   "cell_type": "code",
   "execution_count": null,
   "metadata": {},
   "outputs": [],
   "source": [
    "delta_lam = np.array([[1,2],[3,4]], dtype=float)\n",
    "# Adjust delta matrix for empty groups\n",
    "empty_groups_bool = tau.T @ sigma @ tau < 0.1\n",
    "empty_groups_ind = np.where(empty_groups_bool)\n",
    "# delta_lam[empty_groups_bool] = 1\n",
    "delta_lam[~empty_groups_bool] = 0.1\n",
    "delta_lam"
   ]
  },
  {
   "cell_type": "code",
   "execution_count": 47,
   "metadata": {},
   "outputs": [
    {
     "name": "stdout",
     "output_type": "stream",
     "text": [
      "Time: 0.03279423713684082\n",
      "3.7133483377100215e-217\n"
     ]
    }
   ],
   "source": [
    "import numpy as np\n",
    "import time\n",
    "\n",
    "N = 1000\n",
    "lambda_ = np.random.uniform(0,1,(N,))\n",
    "rho = 0.5\n",
    "\n",
    "start = time.time()\n",
    "for i in range(N):\n",
    "    term = rho * np.exp(-np.sum(lambda_[:(i+1)])) / (1 - rho + rho * np.exp(-np.sum(lambda_[:(i+1)])))\n",
    "end = time.time()\n",
    "print(f\"Time: {end - start}\")\n",
    "print(term)"
   ]
  },
  {
   "cell_type": "code",
   "execution_count": 48,
   "metadata": {},
   "outputs": [
    {
     "name": "stdout",
     "output_type": "stream",
     "text": [
      "Time: 0.004247426986694336\n",
      "3.713348337708121e-217\n"
     ]
    }
   ],
   "source": [
    "start = time.time()\n",
    "lam_sum = 0\n",
    "for i in range(N):\n",
    "    lam_sum += lambda_[i] \n",
    "    term = rho * np.exp(-lam_sum) / (1 - rho + rho * np.exp(-lam_sum))\n",
    "end = time.time()\n",
    "print(f\"Time: {end - start}\")\n",
    "print(term)"
   ]
  },
  {
   "cell_type": "code",
   "execution_count": 43,
   "metadata": {},
   "outputs": [
    {
     "name": "stdout",
     "output_type": "stream",
     "text": [
      "Time: 0.00047969818115234375\n",
      "5.265033698498217e-23\n"
     ]
    }
   ],
   "source": [
    "start = time.time()\n",
    "for i in range(N):\n",
    "    if i == 0:\n",
    "        term = rho * np.exp(-np.sum(lambda_[:(i+1)])) / (1 - rho + rho * np.exp(-np.sum(lambda_[:(i+1)])))\n",
    "    else:\n",
    "        term = term / (term * (1 - np.exp(lambda_[i])) + np.exp(lambda_[i]))\n",
    "end = time.time()\n",
    "print(f\"Time: {end - start}\")\n",
    "print(term)"
   ]
  }
 ],
 "metadata": {
  "kernelspec": {
   "display_name": "online_networks_venv",
   "language": "python",
   "name": "python3"
  },
  "language_info": {
   "codemirror_mode": {
    "name": "ipython",
    "version": 3
   },
   "file_extension": ".py",
   "mimetype": "text/x-python",
   "name": "python",
   "nbconvert_exporter": "python",
   "pygments_lexer": "ipython3",
   "version": "3.10.12"
  }
 },
 "nbformat": 4,
 "nbformat_minor": 2
}
